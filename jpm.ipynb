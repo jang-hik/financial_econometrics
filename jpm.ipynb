{
 "cells": [
  {
   "cell_type": "markdown",
   "id": "87c5bb01",
   "metadata": {},
   "source": [
    "# 필요 모듈 로딩"
   ]
  },
  {
   "cell_type": "code",
   "execution_count": 1,
   "id": "b119386d",
   "metadata": {
    "ExecuteTime": {
     "end_time": "2022-06-08T11:35:45.391750Z",
     "start_time": "2022-06-08T11:35:29.489048Z"
    }
   },
   "outputs": [],
   "source": [
    "import pandas as pd\n",
    "import numpy as np\n",
    "import statsmodels.api as sm\n",
    "import matplotlib.pyplot as plt\n",
    "import statsmodels.formula.api as smf\n",
    "\n",
    "import FinanceDataReader as fdr\n",
    "import pandas_datareader as pdr\n",
    "\n",
    "from module import stationarity_adf_test, stationarity_kpss_test\n",
    "\n",
    "from IPython.display import display_html\n",
    "def display_side_by_side(*args):\n",
    "    \"\"\"여러 데이터프레임 비교가 쉽게 옆쪽으로 표시한다\"\"\"\n",
    "    html_str=''\n",
    "    for df in args:\n",
    "        html_str += df.to_html()\n",
    "    display_html(html_str.replace('table','table style=\"display:inline\"'), raw=True)"
   ]
  },
  {
   "cell_type": "markdown",
   "id": "4316434c",
   "metadata": {},
   "source": [
    "# 전처리"
   ]
  },
  {
   "cell_type": "markdown",
   "id": "0c1753ca",
   "metadata": {},
   "source": [
    "## spread 전처리"
   ]
  },
  {
   "cell_type": "code",
   "execution_count": 2,
   "id": "5fa0928c",
   "metadata": {
    "ExecuteTime": {
     "end_time": "2022-06-08T11:35:47.738546Z",
     "start_time": "2022-06-08T11:35:45.393266Z"
    }
   },
   "outputs": [
    {
     "data": {
      "text/html": [
       "<div>\n",
       "<style scoped>\n",
       "    .dataframe tbody tr th:only-of-type {\n",
       "        vertical-align: middle;\n",
       "    }\n",
       "\n",
       "    .dataframe tbody tr th {\n",
       "        vertical-align: top;\n",
       "    }\n",
       "\n",
       "    .dataframe thead th {\n",
       "        text-align: right;\n",
       "    }\n",
       "</style>\n",
       "<table border=\"1\" class=\"dataframe\">\n",
       "  <thead>\n",
       "    <tr style=\"text-align: right;\">\n",
       "      <th></th>\n",
       "      <th>T10Y2Y</th>\n",
       "    </tr>\n",
       "    <tr>\n",
       "      <th>DATE</th>\n",
       "      <th></th>\n",
       "    </tr>\n",
       "  </thead>\n",
       "  <tbody>\n",
       "    <tr>\n",
       "      <th>1990-06-01</th>\n",
       "      <td>0.11</td>\n",
       "    </tr>\n",
       "    <tr>\n",
       "      <th>1990-06-04</th>\n",
       "      <td>0.13</td>\n",
       "    </tr>\n",
       "    <tr>\n",
       "      <th>1990-06-05</th>\n",
       "      <td>0.13</td>\n",
       "    </tr>\n",
       "    <tr>\n",
       "      <th>1990-06-06</th>\n",
       "      <td>0.12</td>\n",
       "    </tr>\n",
       "    <tr>\n",
       "      <th>1990-06-07</th>\n",
       "      <td>0.12</td>\n",
       "    </tr>\n",
       "    <tr>\n",
       "      <th>...</th>\n",
       "      <td>...</td>\n",
       "    </tr>\n",
       "    <tr>\n",
       "      <th>2022-06-01</th>\n",
       "      <td>0.28</td>\n",
       "    </tr>\n",
       "    <tr>\n",
       "      <th>2022-06-02</th>\n",
       "      <td>0.27</td>\n",
       "    </tr>\n",
       "    <tr>\n",
       "      <th>2022-06-03</th>\n",
       "      <td>0.30</td>\n",
       "    </tr>\n",
       "    <tr>\n",
       "      <th>2022-06-06</th>\n",
       "      <td>0.31</td>\n",
       "    </tr>\n",
       "    <tr>\n",
       "      <th>2022-06-07</th>\n",
       "      <td>0.23</td>\n",
       "    </tr>\n",
       "  </tbody>\n",
       "</table>\n",
       "<p>8353 rows × 1 columns</p>\n",
       "</div>"
      ],
      "text/plain": [
       "            T10Y2Y\n",
       "DATE              \n",
       "1990-06-01    0.11\n",
       "1990-06-04    0.13\n",
       "1990-06-05    0.13\n",
       "1990-06-06    0.12\n",
       "1990-06-07    0.12\n",
       "...            ...\n",
       "2022-06-01    0.28\n",
       "2022-06-02    0.27\n",
       "2022-06-03    0.30\n",
       "2022-06-06    0.31\n",
       "2022-06-07    0.23\n",
       "\n",
       "[8353 rows x 1 columns]"
      ]
     },
     "execution_count": 2,
     "metadata": {},
     "output_type": "execute_result"
    }
   ],
   "source": [
    "# fred에서 fdr을 이용해 미 국채 장단기 금리차(10년물-2년물)을 크롤링해옵니다.\n",
    "spread = fdr.DataReader('T10Y2Y', start='1990-06-01', data_source='fred')\n",
    "spread"
   ]
  },
  {
   "cell_type": "code",
   "execution_count": 3,
   "id": "d43adcc8",
   "metadata": {
    "ExecuteTime": {
     "end_time": "2022-06-08T11:35:47.754624Z",
     "start_time": "2022-06-08T11:35:47.739796Z"
    }
   },
   "outputs": [
    {
     "name": "stdout",
     "output_type": "stream",
     "text": [
      "<class 'pandas.core.frame.DataFrame'>\n",
      "DatetimeIndex: 8353 entries, 1990-06-01 to 2022-06-07\n",
      "Data columns (total 1 columns):\n",
      " #   Column  Non-Null Count  Dtype  \n",
      "---  ------  --------------  -----  \n",
      " 0   T10Y2Y  8353 non-null   float64\n",
      "dtypes: float64(1)\n",
      "memory usage: 130.5 KB\n"
     ]
    }
   ],
   "source": [
    "# spread = pd.read_csv(\"C:/Users/wkdgu/시계열/실습/미 국채 장단기 금리차.csv\")\n",
    "# 위 방식대로 가져오면 T10Y2Y의 데이터 타입이 object형으로 가져옵니다.\n",
    "\n",
    "spread.info()"
   ]
  },
  {
   "cell_type": "code",
   "execution_count": 4,
   "id": "1cee30cb",
   "metadata": {
    "ExecuteTime": {
     "end_time": "2022-06-08T11:35:47.770569Z",
     "start_time": "2022-06-08T11:35:47.755905Z"
    }
   },
   "outputs": [
    {
     "data": {
      "text/html": [
       "<div>\n",
       "<style scoped>\n",
       "    .dataframe tbody tr th:only-of-type {\n",
       "        vertical-align: middle;\n",
       "    }\n",
       "\n",
       "    .dataframe tbody tr th {\n",
       "        vertical-align: top;\n",
       "    }\n",
       "\n",
       "    .dataframe thead th {\n",
       "        text-align: right;\n",
       "    }\n",
       "</style>\n",
       "<table border=\"1\" class=\"dataframe\">\n",
       "  <thead>\n",
       "    <tr style=\"text-align: right;\">\n",
       "      <th></th>\n",
       "      <th>T10Y2Y</th>\n",
       "    </tr>\n",
       "    <tr>\n",
       "      <th>DATE</th>\n",
       "      <th></th>\n",
       "    </tr>\n",
       "  </thead>\n",
       "  <tbody>\n",
       "    <tr>\n",
       "      <th>1990-06-01</th>\n",
       "      <td>0.11</td>\n",
       "    </tr>\n",
       "    <tr>\n",
       "      <th>1990-06-04</th>\n",
       "      <td>0.13</td>\n",
       "    </tr>\n",
       "    <tr>\n",
       "      <th>1990-06-05</th>\n",
       "      <td>0.13</td>\n",
       "    </tr>\n",
       "    <tr>\n",
       "      <th>1990-06-06</th>\n",
       "      <td>0.12</td>\n",
       "    </tr>\n",
       "    <tr>\n",
       "      <th>1990-06-07</th>\n",
       "      <td>0.12</td>\n",
       "    </tr>\n",
       "    <tr>\n",
       "      <th>...</th>\n",
       "      <td>...</td>\n",
       "    </tr>\n",
       "    <tr>\n",
       "      <th>2022-05-31</th>\n",
       "      <td>0.32</td>\n",
       "    </tr>\n",
       "    <tr>\n",
       "      <th>2022-06-01</th>\n",
       "      <td>0.28</td>\n",
       "    </tr>\n",
       "    <tr>\n",
       "      <th>2022-06-02</th>\n",
       "      <td>0.27</td>\n",
       "    </tr>\n",
       "    <tr>\n",
       "      <th>2022-06-03</th>\n",
       "      <td>0.30</td>\n",
       "    </tr>\n",
       "    <tr>\n",
       "      <th>2022-06-06</th>\n",
       "      <td>0.31</td>\n",
       "    </tr>\n",
       "  </tbody>\n",
       "</table>\n",
       "<p>8352 rows × 1 columns</p>\n",
       "</div>"
      ],
      "text/plain": [
       "            T10Y2Y\n",
       "DATE              \n",
       "1990-06-01    0.11\n",
       "1990-06-04    0.13\n",
       "1990-06-05    0.13\n",
       "1990-06-06    0.12\n",
       "1990-06-07    0.12\n",
       "...            ...\n",
       "2022-05-31    0.32\n",
       "2022-06-01    0.28\n",
       "2022-06-02    0.27\n",
       "2022-06-03    0.30\n",
       "2022-06-06    0.31\n",
       "\n",
       "[8352 rows x 1 columns]"
      ]
     },
     "execution_count": 4,
     "metadata": {},
     "output_type": "execute_result"
    }
   ],
   "source": [
    "# 2022년 6월 2일 데이터는 빼줍니다.\n",
    "spread = spread.iloc[:-1, :]\n",
    "spread"
   ]
  },
  {
   "cell_type": "code",
   "execution_count": 5,
   "id": "481a5a94",
   "metadata": {
    "ExecuteTime": {
     "end_time": "2022-06-08T11:35:47.786330Z",
     "start_time": "2022-06-08T11:35:47.772457Z"
    }
   },
   "outputs": [],
   "source": [
    "# T10Y2Y을 Spread로 바꿔줍니다.\n",
    "spread.rename(columns={'T10Y2Y':'spread'}, inplace = True)"
   ]
  },
  {
   "cell_type": "code",
   "execution_count": 6,
   "id": "0496fd25",
   "metadata": {
    "ExecuteTime": {
     "end_time": "2022-06-08T11:35:47.802123Z",
     "start_time": "2022-06-08T11:35:47.787846Z"
    }
   },
   "outputs": [
    {
     "data": {
      "text/html": [
       "<div>\n",
       "<style scoped>\n",
       "    .dataframe tbody tr th:only-of-type {\n",
       "        vertical-align: middle;\n",
       "    }\n",
       "\n",
       "    .dataframe tbody tr th {\n",
       "        vertical-align: top;\n",
       "    }\n",
       "\n",
       "    .dataframe thead th {\n",
       "        text-align: right;\n",
       "    }\n",
       "</style>\n",
       "<table border=\"1\" class=\"dataframe\">\n",
       "  <thead>\n",
       "    <tr style=\"text-align: right;\">\n",
       "      <th></th>\n",
       "      <th>spread</th>\n",
       "    </tr>\n",
       "    <tr>\n",
       "      <th>DATE</th>\n",
       "      <th></th>\n",
       "    </tr>\n",
       "  </thead>\n",
       "  <tbody>\n",
       "    <tr>\n",
       "      <th>1990-06-01</th>\n",
       "      <td>0.11</td>\n",
       "    </tr>\n",
       "    <tr>\n",
       "      <th>1990-06-04</th>\n",
       "      <td>0.13</td>\n",
       "    </tr>\n",
       "    <tr>\n",
       "      <th>1990-06-05</th>\n",
       "      <td>0.13</td>\n",
       "    </tr>\n",
       "    <tr>\n",
       "      <th>1990-06-06</th>\n",
       "      <td>0.12</td>\n",
       "    </tr>\n",
       "    <tr>\n",
       "      <th>1990-06-07</th>\n",
       "      <td>0.12</td>\n",
       "    </tr>\n",
       "    <tr>\n",
       "      <th>...</th>\n",
       "      <td>...</td>\n",
       "    </tr>\n",
       "    <tr>\n",
       "      <th>2022-05-31</th>\n",
       "      <td>0.32</td>\n",
       "    </tr>\n",
       "    <tr>\n",
       "      <th>2022-06-01</th>\n",
       "      <td>0.28</td>\n",
       "    </tr>\n",
       "    <tr>\n",
       "      <th>2022-06-02</th>\n",
       "      <td>0.27</td>\n",
       "    </tr>\n",
       "    <tr>\n",
       "      <th>2022-06-03</th>\n",
       "      <td>0.30</td>\n",
       "    </tr>\n",
       "    <tr>\n",
       "      <th>2022-06-06</th>\n",
       "      <td>0.31</td>\n",
       "    </tr>\n",
       "  </tbody>\n",
       "</table>\n",
       "<p>8352 rows × 1 columns</p>\n",
       "</div>"
      ],
      "text/plain": [
       "            spread\n",
       "DATE              \n",
       "1990-06-01    0.11\n",
       "1990-06-04    0.13\n",
       "1990-06-05    0.13\n",
       "1990-06-06    0.12\n",
       "1990-06-07    0.12\n",
       "...            ...\n",
       "2022-05-31    0.32\n",
       "2022-06-01    0.28\n",
       "2022-06-02    0.27\n",
       "2022-06-03    0.30\n",
       "2022-06-06    0.31\n",
       "\n",
       "[8352 rows x 1 columns]"
      ]
     },
     "execution_count": 6,
     "metadata": {},
     "output_type": "execute_result"
    }
   ],
   "source": [
    "spread"
   ]
  },
  {
   "cell_type": "code",
   "execution_count": 7,
   "id": "0aa4d730",
   "metadata": {
    "ExecuteTime": {
     "end_time": "2022-06-08T11:35:47.817713Z",
     "start_time": "2022-06-08T11:35:47.803977Z"
    }
   },
   "outputs": [],
   "source": [
    "# 시간 빈도를 월로 잡아줍니다.\n",
    "# spread = spread.asfreq('M')\n",
    "# spread"
   ]
  },
  {
   "cell_type": "code",
   "execution_count": 8,
   "id": "de9708c9",
   "metadata": {
    "ExecuteTime": {
     "end_time": "2022-06-08T11:35:47.833452Z",
     "start_time": "2022-06-08T11:35:47.819228Z"
    }
   },
   "outputs": [],
   "source": [
    "# 일단위 spread을 월단위로 빈도를 설정하다 결측치가 110개 나왔습니다.\n",
    "# spread.isnull().sum()"
   ]
  },
  {
   "cell_type": "code",
   "execution_count": 9,
   "id": "4fed7479",
   "metadata": {
    "ExecuteTime": {
     "end_time": "2022-06-08T11:35:47.849114Z",
     "start_time": "2022-06-08T11:35:47.835436Z"
    }
   },
   "outputs": [],
   "source": [
    "# 결측리를 모두 빼줍니다.\n",
    "# spread.dropna(axis = 0, inplace = True)"
   ]
  },
  {
   "cell_type": "code",
   "execution_count": 10,
   "id": "ac096e5f",
   "metadata": {
    "ExecuteTime": {
     "end_time": "2022-06-08T11:35:47.865085Z",
     "start_time": "2022-06-08T11:35:47.852271Z"
    }
   },
   "outputs": [],
   "source": [
    "# spread"
   ]
  },
  {
   "cell_type": "markdown",
   "id": "483d5610",
   "metadata": {},
   "source": [
    "## jpm 전처리"
   ]
  },
  {
   "cell_type": "code",
   "execution_count": 11,
   "id": "76faab23",
   "metadata": {
    "ExecuteTime": {
     "end_time": "2022-06-08T11:35:47.896757Z",
     "start_time": "2022-06-08T11:35:47.866601Z"
    }
   },
   "outputs": [
    {
     "data": {
      "text/html": [
       "<div>\n",
       "<style scoped>\n",
       "    .dataframe tbody tr th:only-of-type {\n",
       "        vertical-align: middle;\n",
       "    }\n",
       "\n",
       "    .dataframe tbody tr th {\n",
       "        vertical-align: top;\n",
       "    }\n",
       "\n",
       "    .dataframe thead th {\n",
       "        text-align: right;\n",
       "    }\n",
       "</style>\n",
       "<table border=\"1\" class=\"dataframe\">\n",
       "  <thead>\n",
       "    <tr style=\"text-align: right;\">\n",
       "      <th></th>\n",
       "      <th>Date</th>\n",
       "      <th>Open</th>\n",
       "      <th>High</th>\n",
       "      <th>Low</th>\n",
       "      <th>Close</th>\n",
       "      <th>Adj Close</th>\n",
       "      <th>Volume</th>\n",
       "    </tr>\n",
       "  </thead>\n",
       "  <tbody>\n",
       "    <tr>\n",
       "      <th>0</th>\n",
       "      <td>1990-06-01</td>\n",
       "      <td>9.21</td>\n",
       "      <td>9.33</td>\n",
       "      <td>9.08</td>\n",
       "      <td>9.33</td>\n",
       "      <td>3.38</td>\n",
       "      <td>1617600</td>\n",
       "    </tr>\n",
       "    <tr>\n",
       "      <th>1</th>\n",
       "      <td>1990-06-04</td>\n",
       "      <td>9.38</td>\n",
       "      <td>9.46</td>\n",
       "      <td>9.21</td>\n",
       "      <td>9.46</td>\n",
       "      <td>3.43</td>\n",
       "      <td>1354200</td>\n",
       "    </tr>\n",
       "    <tr>\n",
       "      <th>2</th>\n",
       "      <td>1990-06-05</td>\n",
       "      <td>9.54</td>\n",
       "      <td>9.62</td>\n",
       "      <td>9.50</td>\n",
       "      <td>9.58</td>\n",
       "      <td>3.47</td>\n",
       "      <td>1629300</td>\n",
       "    </tr>\n",
       "    <tr>\n",
       "      <th>3</th>\n",
       "      <td>1990-06-06</td>\n",
       "      <td>9.62</td>\n",
       "      <td>9.71</td>\n",
       "      <td>9.46</td>\n",
       "      <td>9.54</td>\n",
       "      <td>3.46</td>\n",
       "      <td>1200000</td>\n",
       "    </tr>\n",
       "    <tr>\n",
       "      <th>4</th>\n",
       "      <td>1990-06-07</td>\n",
       "      <td>9.50</td>\n",
       "      <td>9.54</td>\n",
       "      <td>9.42</td>\n",
       "      <td>9.50</td>\n",
       "      <td>3.44</td>\n",
       "      <td>1105800</td>\n",
       "    </tr>\n",
       "    <tr>\n",
       "      <th>...</th>\n",
       "      <td>...</td>\n",
       "      <td>...</td>\n",
       "      <td>...</td>\n",
       "      <td>...</td>\n",
       "      <td>...</td>\n",
       "      <td>...</td>\n",
       "      <td>...</td>\n",
       "    </tr>\n",
       "    <tr>\n",
       "      <th>8058</th>\n",
       "      <td>2022-05-25</td>\n",
       "      <td>126.28</td>\n",
       "      <td>127.86</td>\n",
       "      <td>125.17</td>\n",
       "      <td>127.24</td>\n",
       "      <td>127.24</td>\n",
       "      <td>12780400</td>\n",
       "    </tr>\n",
       "    <tr>\n",
       "      <th>8059</th>\n",
       "      <td>2022-05-26</td>\n",
       "      <td>128.37</td>\n",
       "      <td>130.19</td>\n",
       "      <td>128.21</td>\n",
       "      <td>129.44</td>\n",
       "      <td>129.44</td>\n",
       "      <td>15990900</td>\n",
       "    </tr>\n",
       "    <tr>\n",
       "      <th>8060</th>\n",
       "      <td>2022-05-27</td>\n",
       "      <td>130.16</td>\n",
       "      <td>131.27</td>\n",
       "      <td>129.14</td>\n",
       "      <td>131.27</td>\n",
       "      <td>131.27</td>\n",
       "      <td>11177800</td>\n",
       "    </tr>\n",
       "    <tr>\n",
       "      <th>8061</th>\n",
       "      <td>2022-05-31</td>\n",
       "      <td>130.18</td>\n",
       "      <td>133.15</td>\n",
       "      <td>129.71</td>\n",
       "      <td>132.23</td>\n",
       "      <td>132.23</td>\n",
       "      <td>17015000</td>\n",
       "    </tr>\n",
       "    <tr>\n",
       "      <th>8062</th>\n",
       "      <td>2022-06-01</td>\n",
       "      <td>132.87</td>\n",
       "      <td>132.87</td>\n",
       "      <td>128.67</td>\n",
       "      <td>129.91</td>\n",
       "      <td>129.91</td>\n",
       "      <td>10768000</td>\n",
       "    </tr>\n",
       "  </tbody>\n",
       "</table>\n",
       "<p>8063 rows × 7 columns</p>\n",
       "</div>"
      ],
      "text/plain": [
       "            Date   Open   High    Low  Close  Adj Close    Volume\n",
       "0     1990-06-01   9.21   9.33   9.08   9.33       3.38   1617600\n",
       "1     1990-06-04   9.38   9.46   9.21   9.46       3.43   1354200\n",
       "2     1990-06-05   9.54   9.62   9.50   9.58       3.47   1629300\n",
       "3     1990-06-06   9.62   9.71   9.46   9.54       3.46   1200000\n",
       "4     1990-06-07   9.50   9.54   9.42   9.50       3.44   1105800\n",
       "...          ...    ...    ...    ...    ...        ...       ...\n",
       "8058  2022-05-25 126.28 127.86 125.17 127.24     127.24  12780400\n",
       "8059  2022-05-26 128.37 130.19 128.21 129.44     129.44  15990900\n",
       "8060  2022-05-27 130.16 131.27 129.14 131.27     131.27  11177800\n",
       "8061  2022-05-31 130.18 133.15 129.71 132.23     132.23  17015000\n",
       "8062  2022-06-01 132.87 132.87 128.67 129.91     129.91  10768000\n",
       "\n",
       "[8063 rows x 7 columns]"
      ]
     },
     "execution_count": 11,
     "metadata": {},
     "output_type": "execute_result"
    }
   ],
   "source": [
    "jpm = pd.read_csv(\"C:/Users/wkdgu/시계열/실습/JPM.daily.csv\")\n",
    "jpm"
   ]
  },
  {
   "cell_type": "code",
   "execution_count": 12,
   "id": "ec824ada",
   "metadata": {
    "ExecuteTime": {
     "end_time": "2022-06-08T11:35:47.912249Z",
     "start_time": "2022-06-08T11:35:47.898252Z"
    }
   },
   "outputs": [],
   "source": [
    "jpm['Date'] = pd.to_datetime(jpm['Date'])"
   ]
  },
  {
   "cell_type": "code",
   "execution_count": 13,
   "id": "879e3d00",
   "metadata": {
    "ExecuteTime": {
     "end_time": "2022-06-08T11:35:47.927845Z",
     "start_time": "2022-06-08T11:35:47.913788Z"
    }
   },
   "outputs": [
    {
     "data": {
      "text/html": [
       "<div>\n",
       "<style scoped>\n",
       "    .dataframe tbody tr th:only-of-type {\n",
       "        vertical-align: middle;\n",
       "    }\n",
       "\n",
       "    .dataframe tbody tr th {\n",
       "        vertical-align: top;\n",
       "    }\n",
       "\n",
       "    .dataframe thead th {\n",
       "        text-align: right;\n",
       "    }\n",
       "</style>\n",
       "<table border=\"1\" class=\"dataframe\">\n",
       "  <thead>\n",
       "    <tr style=\"text-align: right;\">\n",
       "      <th></th>\n",
       "      <th>Date</th>\n",
       "      <th>Open</th>\n",
       "      <th>High</th>\n",
       "      <th>Low</th>\n",
       "      <th>Close</th>\n",
       "      <th>Adj Close</th>\n",
       "      <th>Volume</th>\n",
       "    </tr>\n",
       "  </thead>\n",
       "  <tbody>\n",
       "    <tr>\n",
       "      <th>0</th>\n",
       "      <td>1990-06-01</td>\n",
       "      <td>9.21</td>\n",
       "      <td>9.33</td>\n",
       "      <td>9.08</td>\n",
       "      <td>9.33</td>\n",
       "      <td>3.38</td>\n",
       "      <td>1617600</td>\n",
       "    </tr>\n",
       "    <tr>\n",
       "      <th>1</th>\n",
       "      <td>1990-06-04</td>\n",
       "      <td>9.38</td>\n",
       "      <td>9.46</td>\n",
       "      <td>9.21</td>\n",
       "      <td>9.46</td>\n",
       "      <td>3.43</td>\n",
       "      <td>1354200</td>\n",
       "    </tr>\n",
       "    <tr>\n",
       "      <th>2</th>\n",
       "      <td>1990-06-05</td>\n",
       "      <td>9.54</td>\n",
       "      <td>9.62</td>\n",
       "      <td>9.50</td>\n",
       "      <td>9.58</td>\n",
       "      <td>3.47</td>\n",
       "      <td>1629300</td>\n",
       "    </tr>\n",
       "    <tr>\n",
       "      <th>3</th>\n",
       "      <td>1990-06-06</td>\n",
       "      <td>9.62</td>\n",
       "      <td>9.71</td>\n",
       "      <td>9.46</td>\n",
       "      <td>9.54</td>\n",
       "      <td>3.46</td>\n",
       "      <td>1200000</td>\n",
       "    </tr>\n",
       "    <tr>\n",
       "      <th>4</th>\n",
       "      <td>1990-06-07</td>\n",
       "      <td>9.50</td>\n",
       "      <td>9.54</td>\n",
       "      <td>9.42</td>\n",
       "      <td>9.50</td>\n",
       "      <td>3.44</td>\n",
       "      <td>1105800</td>\n",
       "    </tr>\n",
       "    <tr>\n",
       "      <th>...</th>\n",
       "      <td>...</td>\n",
       "      <td>...</td>\n",
       "      <td>...</td>\n",
       "      <td>...</td>\n",
       "      <td>...</td>\n",
       "      <td>...</td>\n",
       "      <td>...</td>\n",
       "    </tr>\n",
       "    <tr>\n",
       "      <th>8058</th>\n",
       "      <td>2022-05-25</td>\n",
       "      <td>126.28</td>\n",
       "      <td>127.86</td>\n",
       "      <td>125.17</td>\n",
       "      <td>127.24</td>\n",
       "      <td>127.24</td>\n",
       "      <td>12780400</td>\n",
       "    </tr>\n",
       "    <tr>\n",
       "      <th>8059</th>\n",
       "      <td>2022-05-26</td>\n",
       "      <td>128.37</td>\n",
       "      <td>130.19</td>\n",
       "      <td>128.21</td>\n",
       "      <td>129.44</td>\n",
       "      <td>129.44</td>\n",
       "      <td>15990900</td>\n",
       "    </tr>\n",
       "    <tr>\n",
       "      <th>8060</th>\n",
       "      <td>2022-05-27</td>\n",
       "      <td>130.16</td>\n",
       "      <td>131.27</td>\n",
       "      <td>129.14</td>\n",
       "      <td>131.27</td>\n",
       "      <td>131.27</td>\n",
       "      <td>11177800</td>\n",
       "    </tr>\n",
       "    <tr>\n",
       "      <th>8061</th>\n",
       "      <td>2022-05-31</td>\n",
       "      <td>130.18</td>\n",
       "      <td>133.15</td>\n",
       "      <td>129.71</td>\n",
       "      <td>132.23</td>\n",
       "      <td>132.23</td>\n",
       "      <td>17015000</td>\n",
       "    </tr>\n",
       "    <tr>\n",
       "      <th>8062</th>\n",
       "      <td>2022-06-01</td>\n",
       "      <td>132.87</td>\n",
       "      <td>132.87</td>\n",
       "      <td>128.67</td>\n",
       "      <td>129.91</td>\n",
       "      <td>129.91</td>\n",
       "      <td>10768000</td>\n",
       "    </tr>\n",
       "  </tbody>\n",
       "</table>\n",
       "<p>8063 rows × 7 columns</p>\n",
       "</div>"
      ],
      "text/plain": [
       "           Date   Open   High    Low  Close  Adj Close    Volume\n",
       "0    1990-06-01   9.21   9.33   9.08   9.33       3.38   1617600\n",
       "1    1990-06-04   9.38   9.46   9.21   9.46       3.43   1354200\n",
       "2    1990-06-05   9.54   9.62   9.50   9.58       3.47   1629300\n",
       "3    1990-06-06   9.62   9.71   9.46   9.54       3.46   1200000\n",
       "4    1990-06-07   9.50   9.54   9.42   9.50       3.44   1105800\n",
       "...         ...    ...    ...    ...    ...        ...       ...\n",
       "8058 2022-05-25 126.28 127.86 125.17 127.24     127.24  12780400\n",
       "8059 2022-05-26 128.37 130.19 128.21 129.44     129.44  15990900\n",
       "8060 2022-05-27 130.16 131.27 129.14 131.27     131.27  11177800\n",
       "8061 2022-05-31 130.18 133.15 129.71 132.23     132.23  17015000\n",
       "8062 2022-06-01 132.87 132.87 128.67 129.91     129.91  10768000\n",
       "\n",
       "[8063 rows x 7 columns]"
      ]
     },
     "execution_count": 13,
     "metadata": {},
     "output_type": "execute_result"
    }
   ],
   "source": [
    "jpm"
   ]
  },
  {
   "cell_type": "code",
   "execution_count": 14,
   "id": "8237847b",
   "metadata": {
    "ExecuteTime": {
     "end_time": "2022-06-08T11:35:47.943248Z",
     "start_time": "2022-06-08T11:35:47.929230Z"
    }
   },
   "outputs": [
    {
     "name": "stdout",
     "output_type": "stream",
     "text": [
      "<class 'pandas.core.frame.DataFrame'>\n",
      "RangeIndex: 8063 entries, 0 to 8062\n",
      "Data columns (total 7 columns):\n",
      " #   Column     Non-Null Count  Dtype         \n",
      "---  ------     --------------  -----         \n",
      " 0   Date       8063 non-null   datetime64[ns]\n",
      " 1   Open       8063 non-null   float64       \n",
      " 2   High       8063 non-null   float64       \n",
      " 3   Low        8063 non-null   float64       \n",
      " 4   Close      8063 non-null   float64       \n",
      " 5   Adj Close  8063 non-null   float64       \n",
      " 6   Volume     8063 non-null   int64         \n",
      "dtypes: datetime64[ns](1), float64(5), int64(1)\n",
      "memory usage: 441.1 KB\n"
     ]
    }
   ],
   "source": [
    "jpm.info()"
   ]
  },
  {
   "cell_type": "code",
   "execution_count": 15,
   "id": "148b98ef",
   "metadata": {
    "ExecuteTime": {
     "end_time": "2022-06-08T11:35:47.959444Z",
     "start_time": "2022-06-08T11:35:47.944233Z"
    }
   },
   "outputs": [],
   "source": [
    "jpm.rename(columns={'Date':'DATE'}, inplace=True)"
   ]
  },
  {
   "cell_type": "code",
   "execution_count": 16,
   "id": "074c5bfd",
   "metadata": {
    "ExecuteTime": {
     "end_time": "2022-06-08T11:35:47.975291Z",
     "start_time": "2022-06-08T11:35:47.961456Z"
    }
   },
   "outputs": [
    {
     "data": {
      "text/html": [
       "<div>\n",
       "<style scoped>\n",
       "    .dataframe tbody tr th:only-of-type {\n",
       "        vertical-align: middle;\n",
       "    }\n",
       "\n",
       "    .dataframe tbody tr th {\n",
       "        vertical-align: top;\n",
       "    }\n",
       "\n",
       "    .dataframe thead th {\n",
       "        text-align: right;\n",
       "    }\n",
       "</style>\n",
       "<table border=\"1\" class=\"dataframe\">\n",
       "  <thead>\n",
       "    <tr style=\"text-align: right;\">\n",
       "      <th></th>\n",
       "      <th>DATE</th>\n",
       "      <th>Open</th>\n",
       "      <th>High</th>\n",
       "      <th>Low</th>\n",
       "      <th>Close</th>\n",
       "      <th>Adj Close</th>\n",
       "      <th>Volume</th>\n",
       "    </tr>\n",
       "  </thead>\n",
       "  <tbody>\n",
       "    <tr>\n",
       "      <th>0</th>\n",
       "      <td>1990-06-01</td>\n",
       "      <td>9.21</td>\n",
       "      <td>9.33</td>\n",
       "      <td>9.08</td>\n",
       "      <td>9.33</td>\n",
       "      <td>3.38</td>\n",
       "      <td>1617600</td>\n",
       "    </tr>\n",
       "    <tr>\n",
       "      <th>1</th>\n",
       "      <td>1990-06-04</td>\n",
       "      <td>9.38</td>\n",
       "      <td>9.46</td>\n",
       "      <td>9.21</td>\n",
       "      <td>9.46</td>\n",
       "      <td>3.43</td>\n",
       "      <td>1354200</td>\n",
       "    </tr>\n",
       "    <tr>\n",
       "      <th>2</th>\n",
       "      <td>1990-06-05</td>\n",
       "      <td>9.54</td>\n",
       "      <td>9.62</td>\n",
       "      <td>9.50</td>\n",
       "      <td>9.58</td>\n",
       "      <td>3.47</td>\n",
       "      <td>1629300</td>\n",
       "    </tr>\n",
       "    <tr>\n",
       "      <th>3</th>\n",
       "      <td>1990-06-06</td>\n",
       "      <td>9.62</td>\n",
       "      <td>9.71</td>\n",
       "      <td>9.46</td>\n",
       "      <td>9.54</td>\n",
       "      <td>3.46</td>\n",
       "      <td>1200000</td>\n",
       "    </tr>\n",
       "    <tr>\n",
       "      <th>4</th>\n",
       "      <td>1990-06-07</td>\n",
       "      <td>9.50</td>\n",
       "      <td>9.54</td>\n",
       "      <td>9.42</td>\n",
       "      <td>9.50</td>\n",
       "      <td>3.44</td>\n",
       "      <td>1105800</td>\n",
       "    </tr>\n",
       "    <tr>\n",
       "      <th>...</th>\n",
       "      <td>...</td>\n",
       "      <td>...</td>\n",
       "      <td>...</td>\n",
       "      <td>...</td>\n",
       "      <td>...</td>\n",
       "      <td>...</td>\n",
       "      <td>...</td>\n",
       "    </tr>\n",
       "    <tr>\n",
       "      <th>8058</th>\n",
       "      <td>2022-05-25</td>\n",
       "      <td>126.28</td>\n",
       "      <td>127.86</td>\n",
       "      <td>125.17</td>\n",
       "      <td>127.24</td>\n",
       "      <td>127.24</td>\n",
       "      <td>12780400</td>\n",
       "    </tr>\n",
       "    <tr>\n",
       "      <th>8059</th>\n",
       "      <td>2022-05-26</td>\n",
       "      <td>128.37</td>\n",
       "      <td>130.19</td>\n",
       "      <td>128.21</td>\n",
       "      <td>129.44</td>\n",
       "      <td>129.44</td>\n",
       "      <td>15990900</td>\n",
       "    </tr>\n",
       "    <tr>\n",
       "      <th>8060</th>\n",
       "      <td>2022-05-27</td>\n",
       "      <td>130.16</td>\n",
       "      <td>131.27</td>\n",
       "      <td>129.14</td>\n",
       "      <td>131.27</td>\n",
       "      <td>131.27</td>\n",
       "      <td>11177800</td>\n",
       "    </tr>\n",
       "    <tr>\n",
       "      <th>8061</th>\n",
       "      <td>2022-05-31</td>\n",
       "      <td>130.18</td>\n",
       "      <td>133.15</td>\n",
       "      <td>129.71</td>\n",
       "      <td>132.23</td>\n",
       "      <td>132.23</td>\n",
       "      <td>17015000</td>\n",
       "    </tr>\n",
       "    <tr>\n",
       "      <th>8062</th>\n",
       "      <td>2022-06-01</td>\n",
       "      <td>132.87</td>\n",
       "      <td>132.87</td>\n",
       "      <td>128.67</td>\n",
       "      <td>129.91</td>\n",
       "      <td>129.91</td>\n",
       "      <td>10768000</td>\n",
       "    </tr>\n",
       "  </tbody>\n",
       "</table>\n",
       "<p>8063 rows × 7 columns</p>\n",
       "</div>"
      ],
      "text/plain": [
       "           DATE   Open   High    Low  Close  Adj Close    Volume\n",
       "0    1990-06-01   9.21   9.33   9.08   9.33       3.38   1617600\n",
       "1    1990-06-04   9.38   9.46   9.21   9.46       3.43   1354200\n",
       "2    1990-06-05   9.54   9.62   9.50   9.58       3.47   1629300\n",
       "3    1990-06-06   9.62   9.71   9.46   9.54       3.46   1200000\n",
       "4    1990-06-07   9.50   9.54   9.42   9.50       3.44   1105800\n",
       "...         ...    ...    ...    ...    ...        ...       ...\n",
       "8058 2022-05-25 126.28 127.86 125.17 127.24     127.24  12780400\n",
       "8059 2022-05-26 128.37 130.19 128.21 129.44     129.44  15990900\n",
       "8060 2022-05-27 130.16 131.27 129.14 131.27     131.27  11177800\n",
       "8061 2022-05-31 130.18 133.15 129.71 132.23     132.23  17015000\n",
       "8062 2022-06-01 132.87 132.87 128.67 129.91     129.91  10768000\n",
       "\n",
       "[8063 rows x 7 columns]"
      ]
     },
     "execution_count": 16,
     "metadata": {},
     "output_type": "execute_result"
    }
   ],
   "source": [
    "jpm"
   ]
  },
  {
   "cell_type": "code",
   "execution_count": 17,
   "id": "6f987970",
   "metadata": {
    "ExecuteTime": {
     "end_time": "2022-06-08T11:35:47.990602Z",
     "start_time": "2022-06-08T11:35:47.976686Z"
    }
   },
   "outputs": [],
   "source": [
    "jpm.set_index('DATE', inplace = True)"
   ]
  },
  {
   "cell_type": "code",
   "execution_count": 18,
   "id": "ff706f58",
   "metadata": {
    "ExecuteTime": {
     "end_time": "2022-06-08T11:35:48.006079Z",
     "start_time": "2022-06-08T11:35:47.992078Z"
    }
   },
   "outputs": [
    {
     "data": {
      "text/html": [
       "<div>\n",
       "<style scoped>\n",
       "    .dataframe tbody tr th:only-of-type {\n",
       "        vertical-align: middle;\n",
       "    }\n",
       "\n",
       "    .dataframe tbody tr th {\n",
       "        vertical-align: top;\n",
       "    }\n",
       "\n",
       "    .dataframe thead th {\n",
       "        text-align: right;\n",
       "    }\n",
       "</style>\n",
       "<table border=\"1\" class=\"dataframe\">\n",
       "  <thead>\n",
       "    <tr style=\"text-align: right;\">\n",
       "      <th></th>\n",
       "      <th>Open</th>\n",
       "      <th>High</th>\n",
       "      <th>Low</th>\n",
       "      <th>Close</th>\n",
       "      <th>Adj Close</th>\n",
       "      <th>Volume</th>\n",
       "    </tr>\n",
       "    <tr>\n",
       "      <th>DATE</th>\n",
       "      <th></th>\n",
       "      <th></th>\n",
       "      <th></th>\n",
       "      <th></th>\n",
       "      <th></th>\n",
       "      <th></th>\n",
       "    </tr>\n",
       "  </thead>\n",
       "  <tbody>\n",
       "    <tr>\n",
       "      <th>1990-06-01</th>\n",
       "      <td>9.21</td>\n",
       "      <td>9.33</td>\n",
       "      <td>9.08</td>\n",
       "      <td>9.33</td>\n",
       "      <td>3.38</td>\n",
       "      <td>1617600</td>\n",
       "    </tr>\n",
       "    <tr>\n",
       "      <th>1990-06-04</th>\n",
       "      <td>9.38</td>\n",
       "      <td>9.46</td>\n",
       "      <td>9.21</td>\n",
       "      <td>9.46</td>\n",
       "      <td>3.43</td>\n",
       "      <td>1354200</td>\n",
       "    </tr>\n",
       "    <tr>\n",
       "      <th>1990-06-05</th>\n",
       "      <td>9.54</td>\n",
       "      <td>9.62</td>\n",
       "      <td>9.50</td>\n",
       "      <td>9.58</td>\n",
       "      <td>3.47</td>\n",
       "      <td>1629300</td>\n",
       "    </tr>\n",
       "    <tr>\n",
       "      <th>1990-06-06</th>\n",
       "      <td>9.62</td>\n",
       "      <td>9.71</td>\n",
       "      <td>9.46</td>\n",
       "      <td>9.54</td>\n",
       "      <td>3.46</td>\n",
       "      <td>1200000</td>\n",
       "    </tr>\n",
       "    <tr>\n",
       "      <th>1990-06-07</th>\n",
       "      <td>9.50</td>\n",
       "      <td>9.54</td>\n",
       "      <td>9.42</td>\n",
       "      <td>9.50</td>\n",
       "      <td>3.44</td>\n",
       "      <td>1105800</td>\n",
       "    </tr>\n",
       "    <tr>\n",
       "      <th>...</th>\n",
       "      <td>...</td>\n",
       "      <td>...</td>\n",
       "      <td>...</td>\n",
       "      <td>...</td>\n",
       "      <td>...</td>\n",
       "      <td>...</td>\n",
       "    </tr>\n",
       "    <tr>\n",
       "      <th>2022-05-25</th>\n",
       "      <td>126.28</td>\n",
       "      <td>127.86</td>\n",
       "      <td>125.17</td>\n",
       "      <td>127.24</td>\n",
       "      <td>127.24</td>\n",
       "      <td>12780400</td>\n",
       "    </tr>\n",
       "    <tr>\n",
       "      <th>2022-05-26</th>\n",
       "      <td>128.37</td>\n",
       "      <td>130.19</td>\n",
       "      <td>128.21</td>\n",
       "      <td>129.44</td>\n",
       "      <td>129.44</td>\n",
       "      <td>15990900</td>\n",
       "    </tr>\n",
       "    <tr>\n",
       "      <th>2022-05-27</th>\n",
       "      <td>130.16</td>\n",
       "      <td>131.27</td>\n",
       "      <td>129.14</td>\n",
       "      <td>131.27</td>\n",
       "      <td>131.27</td>\n",
       "      <td>11177800</td>\n",
       "    </tr>\n",
       "    <tr>\n",
       "      <th>2022-05-31</th>\n",
       "      <td>130.18</td>\n",
       "      <td>133.15</td>\n",
       "      <td>129.71</td>\n",
       "      <td>132.23</td>\n",
       "      <td>132.23</td>\n",
       "      <td>17015000</td>\n",
       "    </tr>\n",
       "    <tr>\n",
       "      <th>2022-06-01</th>\n",
       "      <td>132.87</td>\n",
       "      <td>132.87</td>\n",
       "      <td>128.67</td>\n",
       "      <td>129.91</td>\n",
       "      <td>129.91</td>\n",
       "      <td>10768000</td>\n",
       "    </tr>\n",
       "  </tbody>\n",
       "</table>\n",
       "<p>8063 rows × 6 columns</p>\n",
       "</div>"
      ],
      "text/plain": [
       "             Open   High    Low  Close  Adj Close    Volume\n",
       "DATE                                                       \n",
       "1990-06-01   9.21   9.33   9.08   9.33       3.38   1617600\n",
       "1990-06-04   9.38   9.46   9.21   9.46       3.43   1354200\n",
       "1990-06-05   9.54   9.62   9.50   9.58       3.47   1629300\n",
       "1990-06-06   9.62   9.71   9.46   9.54       3.46   1200000\n",
       "1990-06-07   9.50   9.54   9.42   9.50       3.44   1105800\n",
       "...           ...    ...    ...    ...        ...       ...\n",
       "2022-05-25 126.28 127.86 125.17 127.24     127.24  12780400\n",
       "2022-05-26 128.37 130.19 128.21 129.44     129.44  15990900\n",
       "2022-05-27 130.16 131.27 129.14 131.27     131.27  11177800\n",
       "2022-05-31 130.18 133.15 129.71 132.23     132.23  17015000\n",
       "2022-06-01 132.87 132.87 128.67 129.91     129.91  10768000\n",
       "\n",
       "[8063 rows x 6 columns]"
      ]
     },
     "execution_count": 18,
     "metadata": {},
     "output_type": "execute_result"
    }
   ],
   "source": [
    "jpm"
   ]
  },
  {
   "cell_type": "code",
   "execution_count": 19,
   "id": "d7b1af41",
   "metadata": {
    "ExecuteTime": {
     "end_time": "2022-06-08T11:35:48.021430Z",
     "start_time": "2022-06-08T11:35:48.007865Z"
    }
   },
   "outputs": [
    {
     "data": {
      "text/html": [
       "<div>\n",
       "<style scoped>\n",
       "    .dataframe tbody tr th:only-of-type {\n",
       "        vertical-align: middle;\n",
       "    }\n",
       "\n",
       "    .dataframe tbody tr th {\n",
       "        vertical-align: top;\n",
       "    }\n",
       "\n",
       "    .dataframe thead th {\n",
       "        text-align: right;\n",
       "    }\n",
       "</style>\n",
       "<table border=\"1\" class=\"dataframe\">\n",
       "  <thead>\n",
       "    <tr style=\"text-align: right;\">\n",
       "      <th></th>\n",
       "      <th>Close</th>\n",
       "    </tr>\n",
       "    <tr>\n",
       "      <th>DATE</th>\n",
       "      <th></th>\n",
       "    </tr>\n",
       "  </thead>\n",
       "  <tbody>\n",
       "    <tr>\n",
       "      <th>1990-06-01</th>\n",
       "      <td>9.33</td>\n",
       "    </tr>\n",
       "    <tr>\n",
       "      <th>1990-06-04</th>\n",
       "      <td>9.46</td>\n",
       "    </tr>\n",
       "    <tr>\n",
       "      <th>1990-06-05</th>\n",
       "      <td>9.58</td>\n",
       "    </tr>\n",
       "    <tr>\n",
       "      <th>1990-06-06</th>\n",
       "      <td>9.54</td>\n",
       "    </tr>\n",
       "    <tr>\n",
       "      <th>1990-06-07</th>\n",
       "      <td>9.50</td>\n",
       "    </tr>\n",
       "    <tr>\n",
       "      <th>...</th>\n",
       "      <td>...</td>\n",
       "    </tr>\n",
       "    <tr>\n",
       "      <th>2022-05-25</th>\n",
       "      <td>127.24</td>\n",
       "    </tr>\n",
       "    <tr>\n",
       "      <th>2022-05-26</th>\n",
       "      <td>129.44</td>\n",
       "    </tr>\n",
       "    <tr>\n",
       "      <th>2022-05-27</th>\n",
       "      <td>131.27</td>\n",
       "    </tr>\n",
       "    <tr>\n",
       "      <th>2022-05-31</th>\n",
       "      <td>132.23</td>\n",
       "    </tr>\n",
       "    <tr>\n",
       "      <th>2022-06-01</th>\n",
       "      <td>129.91</td>\n",
       "    </tr>\n",
       "  </tbody>\n",
       "</table>\n",
       "<p>8063 rows × 1 columns</p>\n",
       "</div>"
      ],
      "text/plain": [
       "            Close\n",
       "DATE             \n",
       "1990-06-01   9.33\n",
       "1990-06-04   9.46\n",
       "1990-06-05   9.58\n",
       "1990-06-06   9.54\n",
       "1990-06-07   9.50\n",
       "...           ...\n",
       "2022-05-25 127.24\n",
       "2022-05-26 129.44\n",
       "2022-05-27 131.27\n",
       "2022-05-31 132.23\n",
       "2022-06-01 129.91\n",
       "\n",
       "[8063 rows x 1 columns]"
      ]
     },
     "execution_count": 19,
     "metadata": {},
     "output_type": "execute_result"
    }
   ],
   "source": [
    "jpm = jpm[['Close']]\n",
    "jpm"
   ]
  },
  {
   "cell_type": "code",
   "execution_count": 20,
   "id": "903f6435",
   "metadata": {
    "ExecuteTime": {
     "end_time": "2022-06-08T11:35:48.036868Z",
     "start_time": "2022-06-08T11:35:48.022514Z"
    }
   },
   "outputs": [],
   "source": [
    "# jpm = jpm.asfreq('M')\n",
    "# jpm"
   ]
  },
  {
   "cell_type": "code",
   "execution_count": 21,
   "id": "84806ae4",
   "metadata": {
    "ExecuteTime": {
     "end_time": "2022-06-08T11:35:48.052926Z",
     "start_time": "2022-06-08T11:35:48.037875Z"
    }
   },
   "outputs": [],
   "source": [
    "# 일단위 jpm을 월단위로 빈도를 설정하다 결측치가 115개 나왔습니다.\n",
    "# jpm.isnull().sum()"
   ]
  },
  {
   "cell_type": "code",
   "execution_count": 22,
   "id": "be891bb9",
   "metadata": {
    "ExecuteTime": {
     "end_time": "2022-06-08T11:35:48.068664Z",
     "start_time": "2022-06-08T11:35:48.054335Z"
    }
   },
   "outputs": [],
   "source": [
    "# jpm.dropna(axis = 0, inplace = True)"
   ]
  },
  {
   "cell_type": "code",
   "execution_count": 23,
   "id": "2e950011",
   "metadata": {
    "ExecuteTime": {
     "end_time": "2022-06-08T11:35:48.084100Z",
     "start_time": "2022-06-08T11:35:48.070053Z"
    }
   },
   "outputs": [],
   "source": [
    "# jpm"
   ]
  },
  {
   "cell_type": "markdown",
   "id": "a465d2a9",
   "metadata": {},
   "source": [
    "## XLF 전처리"
   ]
  },
  {
   "cell_type": "code",
   "execution_count": 24,
   "id": "e6f6dbba",
   "metadata": {
    "ExecuteTime": {
     "end_time": "2022-06-08T11:35:48.114890Z",
     "start_time": "2022-06-08T11:35:48.085601Z"
    }
   },
   "outputs": [
    {
     "data": {
      "text/html": [
       "<div>\n",
       "<style scoped>\n",
       "    .dataframe tbody tr th:only-of-type {\n",
       "        vertical-align: middle;\n",
       "    }\n",
       "\n",
       "    .dataframe tbody tr th {\n",
       "        vertical-align: top;\n",
       "    }\n",
       "\n",
       "    .dataframe thead th {\n",
       "        text-align: right;\n",
       "    }\n",
       "</style>\n",
       "<table border=\"1\" class=\"dataframe\">\n",
       "  <thead>\n",
       "    <tr style=\"text-align: right;\">\n",
       "      <th></th>\n",
       "      <th>Date</th>\n",
       "      <th>Open</th>\n",
       "      <th>High</th>\n",
       "      <th>Low</th>\n",
       "      <th>Close</th>\n",
       "      <th>Adj Close</th>\n",
       "      <th>Volume</th>\n",
       "    </tr>\n",
       "  </thead>\n",
       "  <tbody>\n",
       "    <tr>\n",
       "      <th>0</th>\n",
       "      <td>1999-06-01</td>\n",
       "      <td>20.26</td>\n",
       "      <td>20.36</td>\n",
       "      <td>19.85</td>\n",
       "      <td>20.08</td>\n",
       "      <td>12.73</td>\n",
       "      <td>256417</td>\n",
       "    </tr>\n",
       "    <tr>\n",
       "      <th>1</th>\n",
       "      <td>1999-06-02</td>\n",
       "      <td>19.98</td>\n",
       "      <td>20.11</td>\n",
       "      <td>19.62</td>\n",
       "      <td>19.95</td>\n",
       "      <td>12.65</td>\n",
       "      <td>126178</td>\n",
       "    </tr>\n",
       "    <tr>\n",
       "      <th>2</th>\n",
       "      <td>1999-06-03</td>\n",
       "      <td>20.21</td>\n",
       "      <td>20.21</td>\n",
       "      <td>19.88</td>\n",
       "      <td>19.94</td>\n",
       "      <td>12.64</td>\n",
       "      <td>87155</td>\n",
       "    </tr>\n",
       "    <tr>\n",
       "      <th>3</th>\n",
       "      <td>1999-06-04</td>\n",
       "      <td>20.18</td>\n",
       "      <td>20.38</td>\n",
       "      <td>20.05</td>\n",
       "      <td>20.31</td>\n",
       "      <td>12.88</td>\n",
       "      <td>91340</td>\n",
       "    </tr>\n",
       "    <tr>\n",
       "      <th>4</th>\n",
       "      <td>1999-06-07</td>\n",
       "      <td>20.44</td>\n",
       "      <td>20.71</td>\n",
       "      <td>20.36</td>\n",
       "      <td>20.69</td>\n",
       "      <td>13.12</td>\n",
       "      <td>60319</td>\n",
       "    </tr>\n",
       "    <tr>\n",
       "      <th>...</th>\n",
       "      <td>...</td>\n",
       "      <td>...</td>\n",
       "      <td>...</td>\n",
       "      <td>...</td>\n",
       "      <td>...</td>\n",
       "      <td>...</td>\n",
       "      <td>...</td>\n",
       "    </tr>\n",
       "    <tr>\n",
       "      <th>5785</th>\n",
       "      <td>2022-05-25</td>\n",
       "      <td>33.84</td>\n",
       "      <td>34.40</td>\n",
       "      <td>33.74</td>\n",
       "      <td>34.19</td>\n",
       "      <td>34.19</td>\n",
       "      <td>72192600</td>\n",
       "    </tr>\n",
       "    <tr>\n",
       "      <th>5786</th>\n",
       "      <td>2022-05-26</td>\n",
       "      <td>34.56</td>\n",
       "      <td>35.10</td>\n",
       "      <td>34.53</td>\n",
       "      <td>34.98</td>\n",
       "      <td>34.98</td>\n",
       "      <td>50803200</td>\n",
       "    </tr>\n",
       "    <tr>\n",
       "      <th>5787</th>\n",
       "      <td>2022-05-27</td>\n",
       "      <td>35.13</td>\n",
       "      <td>35.64</td>\n",
       "      <td>35.07</td>\n",
       "      <td>35.57</td>\n",
       "      <td>35.57</td>\n",
       "      <td>43862500</td>\n",
       "    </tr>\n",
       "    <tr>\n",
       "      <th>5788</th>\n",
       "      <td>2022-05-31</td>\n",
       "      <td>35.28</td>\n",
       "      <td>35.74</td>\n",
       "      <td>35.09</td>\n",
       "      <td>35.47</td>\n",
       "      <td>35.47</td>\n",
       "      <td>64778900</td>\n",
       "    </tr>\n",
       "    <tr>\n",
       "      <th>5789</th>\n",
       "      <td>2022-06-01</td>\n",
       "      <td>35.38</td>\n",
       "      <td>35.47</td>\n",
       "      <td>34.57</td>\n",
       "      <td>34.90</td>\n",
       "      <td>34.90</td>\n",
       "      <td>48642400</td>\n",
       "    </tr>\n",
       "  </tbody>\n",
       "</table>\n",
       "<p>5790 rows × 7 columns</p>\n",
       "</div>"
      ],
      "text/plain": [
       "            Date  Open  High   Low  Close  Adj Close    Volume\n",
       "0     1999-06-01 20.26 20.36 19.85  20.08      12.73    256417\n",
       "1     1999-06-02 19.98 20.11 19.62  19.95      12.65    126178\n",
       "2     1999-06-03 20.21 20.21 19.88  19.94      12.64     87155\n",
       "3     1999-06-04 20.18 20.38 20.05  20.31      12.88     91340\n",
       "4     1999-06-07 20.44 20.71 20.36  20.69      13.12     60319\n",
       "...          ...   ...   ...   ...    ...        ...       ...\n",
       "5785  2022-05-25 33.84 34.40 33.74  34.19      34.19  72192600\n",
       "5786  2022-05-26 34.56 35.10 34.53  34.98      34.98  50803200\n",
       "5787  2022-05-27 35.13 35.64 35.07  35.57      35.57  43862500\n",
       "5788  2022-05-31 35.28 35.74 35.09  35.47      35.47  64778900\n",
       "5789  2022-06-01 35.38 35.47 34.57  34.90      34.90  48642400\n",
       "\n",
       "[5790 rows x 7 columns]"
      ]
     },
     "execution_count": 24,
     "metadata": {},
     "output_type": "execute_result"
    }
   ],
   "source": [
    "xlf = pd.read_csv(\"C:/Users/wkdgu/시계열/실습/XLF.csv\")\n",
    "xlf"
   ]
  },
  {
   "cell_type": "code",
   "execution_count": 25,
   "id": "3b52529f",
   "metadata": {
    "ExecuteTime": {
     "end_time": "2022-06-08T11:35:48.130758Z",
     "start_time": "2022-06-08T11:35:48.116338Z"
    }
   },
   "outputs": [],
   "source": [
    "xlf['Date'] = pd.to_datetime(xlf['Date'])"
   ]
  },
  {
   "cell_type": "code",
   "execution_count": 26,
   "id": "9552a981",
   "metadata": {
    "ExecuteTime": {
     "end_time": "2022-06-08T11:35:48.146770Z",
     "start_time": "2022-06-08T11:35:48.132306Z"
    }
   },
   "outputs": [
    {
     "data": {
      "text/html": [
       "<div>\n",
       "<style scoped>\n",
       "    .dataframe tbody tr th:only-of-type {\n",
       "        vertical-align: middle;\n",
       "    }\n",
       "\n",
       "    .dataframe tbody tr th {\n",
       "        vertical-align: top;\n",
       "    }\n",
       "\n",
       "    .dataframe thead th {\n",
       "        text-align: right;\n",
       "    }\n",
       "</style>\n",
       "<table border=\"1\" class=\"dataframe\">\n",
       "  <thead>\n",
       "    <tr style=\"text-align: right;\">\n",
       "      <th></th>\n",
       "      <th>Close</th>\n",
       "    </tr>\n",
       "    <tr>\n",
       "      <th>DATE</th>\n",
       "      <th></th>\n",
       "    </tr>\n",
       "  </thead>\n",
       "  <tbody>\n",
       "    <tr>\n",
       "      <th>1999-06-01</th>\n",
       "      <td>20.08</td>\n",
       "    </tr>\n",
       "    <tr>\n",
       "      <th>1999-06-02</th>\n",
       "      <td>19.95</td>\n",
       "    </tr>\n",
       "    <tr>\n",
       "      <th>1999-06-03</th>\n",
       "      <td>19.94</td>\n",
       "    </tr>\n",
       "    <tr>\n",
       "      <th>1999-06-04</th>\n",
       "      <td>20.31</td>\n",
       "    </tr>\n",
       "    <tr>\n",
       "      <th>1999-06-07</th>\n",
       "      <td>20.69</td>\n",
       "    </tr>\n",
       "    <tr>\n",
       "      <th>...</th>\n",
       "      <td>...</td>\n",
       "    </tr>\n",
       "    <tr>\n",
       "      <th>2022-05-25</th>\n",
       "      <td>34.19</td>\n",
       "    </tr>\n",
       "    <tr>\n",
       "      <th>2022-05-26</th>\n",
       "      <td>34.98</td>\n",
       "    </tr>\n",
       "    <tr>\n",
       "      <th>2022-05-27</th>\n",
       "      <td>35.57</td>\n",
       "    </tr>\n",
       "    <tr>\n",
       "      <th>2022-05-31</th>\n",
       "      <td>35.47</td>\n",
       "    </tr>\n",
       "    <tr>\n",
       "      <th>2022-06-01</th>\n",
       "      <td>34.90</td>\n",
       "    </tr>\n",
       "  </tbody>\n",
       "</table>\n",
       "<p>5790 rows × 1 columns</p>\n",
       "</div>"
      ],
      "text/plain": [
       "            Close\n",
       "DATE             \n",
       "1999-06-01  20.08\n",
       "1999-06-02  19.95\n",
       "1999-06-03  19.94\n",
       "1999-06-04  20.31\n",
       "1999-06-07  20.69\n",
       "...           ...\n",
       "2022-05-25  34.19\n",
       "2022-05-26  34.98\n",
       "2022-05-27  35.57\n",
       "2022-05-31  35.47\n",
       "2022-06-01  34.90\n",
       "\n",
       "[5790 rows x 1 columns]"
      ]
     },
     "execution_count": 26,
     "metadata": {},
     "output_type": "execute_result"
    }
   ],
   "source": [
    "xlf.rename(columns={'Date':'DATE'}, inplace=True)\n",
    "xlf.set_index('DATE', inplace = True)\n",
    "xlf = xlf[['Close']]\n",
    "xlf"
   ]
  },
  {
   "cell_type": "markdown",
   "id": "e3add0d6",
   "metadata": {},
   "source": [
    "## spread와 jpm을 합쳐줍니다."
   ]
  },
  {
   "cell_type": "code",
   "execution_count": 27,
   "id": "9cdb0c14",
   "metadata": {
    "ExecuteTime": {
     "end_time": "2022-06-08T11:35:48.161890Z",
     "start_time": "2022-06-08T11:35:48.147985Z"
    }
   },
   "outputs": [
    {
     "data": {
      "text/html": [
       "<div>\n",
       "<style scoped>\n",
       "    .dataframe tbody tr th:only-of-type {\n",
       "        vertical-align: middle;\n",
       "    }\n",
       "\n",
       "    .dataframe tbody tr th {\n",
       "        vertical-align: top;\n",
       "    }\n",
       "\n",
       "    .dataframe thead th {\n",
       "        text-align: right;\n",
       "    }\n",
       "</style>\n",
       "<table border=\"1\" class=\"dataframe\">\n",
       "  <thead>\n",
       "    <tr style=\"text-align: right;\">\n",
       "      <th></th>\n",
       "      <th>spread</th>\n",
       "      <th>Close</th>\n",
       "    </tr>\n",
       "    <tr>\n",
       "      <th>DATE</th>\n",
       "      <th></th>\n",
       "      <th></th>\n",
       "    </tr>\n",
       "  </thead>\n",
       "  <tbody>\n",
       "    <tr>\n",
       "      <th>1990-06-01</th>\n",
       "      <td>0.11</td>\n",
       "      <td>9.33</td>\n",
       "    </tr>\n",
       "    <tr>\n",
       "      <th>1990-06-04</th>\n",
       "      <td>0.13</td>\n",
       "      <td>9.46</td>\n",
       "    </tr>\n",
       "    <tr>\n",
       "      <th>1990-06-05</th>\n",
       "      <td>0.13</td>\n",
       "      <td>9.58</td>\n",
       "    </tr>\n",
       "    <tr>\n",
       "      <th>1990-06-06</th>\n",
       "      <td>0.12</td>\n",
       "      <td>9.54</td>\n",
       "    </tr>\n",
       "    <tr>\n",
       "      <th>1990-06-07</th>\n",
       "      <td>0.12</td>\n",
       "      <td>9.50</td>\n",
       "    </tr>\n",
       "    <tr>\n",
       "      <th>...</th>\n",
       "      <td>...</td>\n",
       "      <td>...</td>\n",
       "    </tr>\n",
       "    <tr>\n",
       "      <th>2022-05-25</th>\n",
       "      <td>0.27</td>\n",
       "      <td>127.24</td>\n",
       "    </tr>\n",
       "    <tr>\n",
       "      <th>2022-05-26</th>\n",
       "      <td>0.29</td>\n",
       "      <td>129.44</td>\n",
       "    </tr>\n",
       "    <tr>\n",
       "      <th>2022-05-27</th>\n",
       "      <td>0.27</td>\n",
       "      <td>131.27</td>\n",
       "    </tr>\n",
       "    <tr>\n",
       "      <th>2022-05-31</th>\n",
       "      <td>0.32</td>\n",
       "      <td>132.23</td>\n",
       "    </tr>\n",
       "    <tr>\n",
       "      <th>2022-06-01</th>\n",
       "      <td>0.28</td>\n",
       "      <td>129.91</td>\n",
       "    </tr>\n",
       "  </tbody>\n",
       "</table>\n",
       "<p>8063 rows × 2 columns</p>\n",
       "</div>"
      ],
      "text/plain": [
       "            spread  Close\n",
       "DATE                     \n",
       "1990-06-01    0.11   9.33\n",
       "1990-06-04    0.13   9.46\n",
       "1990-06-05    0.13   9.58\n",
       "1990-06-06    0.12   9.54\n",
       "1990-06-07    0.12   9.50\n",
       "...            ...    ...\n",
       "2022-05-25    0.27 127.24\n",
       "2022-05-26    0.29 129.44\n",
       "2022-05-27    0.27 131.27\n",
       "2022-05-31    0.32 132.23\n",
       "2022-06-01    0.28 129.91\n",
       "\n",
       "[8063 rows x 2 columns]"
      ]
     },
     "execution_count": 27,
     "metadata": {},
     "output_type": "execute_result"
    }
   ],
   "source": [
    "jpm_spread = pd.merge(spread, jpm, how='inner', on='DATE')\n",
    "jpm_spread"
   ]
  },
  {
   "cell_type": "markdown",
   "id": "65e5f0b8",
   "metadata": {},
   "source": [
    "## jpm,xlf,spread를 합쳐줍니다."
   ]
  },
  {
   "cell_type": "code",
   "execution_count": 28,
   "id": "04ab0edf",
   "metadata": {
    "ExecuteTime": {
     "end_time": "2022-06-08T11:35:48.192931Z",
     "start_time": "2022-06-08T11:35:48.165932Z"
    }
   },
   "outputs": [
    {
     "data": {
      "text/html": [
       "<div>\n",
       "<style scoped>\n",
       "    .dataframe tbody tr th:only-of-type {\n",
       "        vertical-align: middle;\n",
       "    }\n",
       "\n",
       "    .dataframe tbody tr th {\n",
       "        vertical-align: top;\n",
       "    }\n",
       "\n",
       "    .dataframe thead th {\n",
       "        text-align: right;\n",
       "    }\n",
       "</style>\n",
       "<table border=\"1\" class=\"dataframe\">\n",
       "  <thead>\n",
       "    <tr style=\"text-align: right;\">\n",
       "      <th></th>\n",
       "      <th>spread</th>\n",
       "      <th>Close_x</th>\n",
       "      <th>Close_y</th>\n",
       "    </tr>\n",
       "    <tr>\n",
       "      <th>DATE</th>\n",
       "      <th></th>\n",
       "      <th></th>\n",
       "      <th></th>\n",
       "    </tr>\n",
       "  </thead>\n",
       "  <tbody>\n",
       "    <tr>\n",
       "      <th>1999-06-01</th>\n",
       "      <td>0.24</td>\n",
       "      <td>48.08</td>\n",
       "      <td>20.08</td>\n",
       "    </tr>\n",
       "    <tr>\n",
       "      <th>1999-06-02</th>\n",
       "      <td>0.25</td>\n",
       "      <td>47.38</td>\n",
       "      <td>19.95</td>\n",
       "    </tr>\n",
       "    <tr>\n",
       "      <th>1999-06-03</th>\n",
       "      <td>0.26</td>\n",
       "      <td>47.75</td>\n",
       "      <td>19.94</td>\n",
       "    </tr>\n",
       "    <tr>\n",
       "      <th>1999-06-04</th>\n",
       "      <td>0.26</td>\n",
       "      <td>49.54</td>\n",
       "      <td>20.31</td>\n",
       "    </tr>\n",
       "    <tr>\n",
       "      <th>1999-06-07</th>\n",
       "      <td>0.25</td>\n",
       "      <td>51.17</td>\n",
       "      <td>20.69</td>\n",
       "    </tr>\n",
       "    <tr>\n",
       "      <th>...</th>\n",
       "      <td>...</td>\n",
       "      <td>...</td>\n",
       "      <td>...</td>\n",
       "    </tr>\n",
       "    <tr>\n",
       "      <th>2022-05-25</th>\n",
       "      <td>0.27</td>\n",
       "      <td>127.24</td>\n",
       "      <td>34.19</td>\n",
       "    </tr>\n",
       "    <tr>\n",
       "      <th>2022-05-26</th>\n",
       "      <td>0.29</td>\n",
       "      <td>129.44</td>\n",
       "      <td>34.98</td>\n",
       "    </tr>\n",
       "    <tr>\n",
       "      <th>2022-05-27</th>\n",
       "      <td>0.27</td>\n",
       "      <td>131.27</td>\n",
       "      <td>35.57</td>\n",
       "    </tr>\n",
       "    <tr>\n",
       "      <th>2022-05-31</th>\n",
       "      <td>0.32</td>\n",
       "      <td>132.23</td>\n",
       "      <td>35.47</td>\n",
       "    </tr>\n",
       "    <tr>\n",
       "      <th>2022-06-01</th>\n",
       "      <td>0.28</td>\n",
       "      <td>129.91</td>\n",
       "      <td>34.90</td>\n",
       "    </tr>\n",
       "  </tbody>\n",
       "</table>\n",
       "<p>5790 rows × 3 columns</p>\n",
       "</div>"
      ],
      "text/plain": [
       "            spread  Close_x  Close_y\n",
       "DATE                                \n",
       "1999-06-01    0.24    48.08    20.08\n",
       "1999-06-02    0.25    47.38    19.95\n",
       "1999-06-03    0.26    47.75    19.94\n",
       "1999-06-04    0.26    49.54    20.31\n",
       "1999-06-07    0.25    51.17    20.69\n",
       "...            ...      ...      ...\n",
       "2022-05-25    0.27   127.24    34.19\n",
       "2022-05-26    0.29   129.44    34.98\n",
       "2022-05-27    0.27   131.27    35.57\n",
       "2022-05-31    0.32   132.23    35.47\n",
       "2022-06-01    0.28   129.91    34.90\n",
       "\n",
       "[5790 rows x 3 columns]"
      ]
     },
     "execution_count": 28,
     "metadata": {},
     "output_type": "execute_result"
    }
   ],
   "source": [
    "# Close_x = jpm, Close_y = XLF\n",
    "jpm_xlf_spread = pd.merge(jpm_spread, xlf, how='inner', on='DATE')\n",
    "jpm_xlf_spread"
   ]
  },
  {
   "cell_type": "markdown",
   "id": "caf0a4cf",
   "metadata": {},
   "source": [
    "## jpm, spread 시각화합니다."
   ]
  },
  {
   "cell_type": "code",
   "execution_count": 29,
   "id": "32e5d51c",
   "metadata": {
    "ExecuteTime": {
     "end_time": "2022-06-08T11:35:48.643552Z",
     "start_time": "2022-06-08T11:35:48.194932Z"
    }
   },
   "outputs": [
    {
     "data": {
      "image/png": "[encoded data removed]",
      "text/plain": [
       "<Figure size 1296x1080 with 2 Axes>"
      ]
     },
     "metadata": {
      "needs_background": "light"
     },
     "output_type": "display_data"
    }
   ],
   "source": [
    "fig, axs = plt.subplots(2, 1, figsize=(18,15))\n",
    "jpm_spread['Close'].plot(ax = axs[0], title = 'jpm_close_price')\n",
    "jpm_spread['spread'].plot(ax = axs[1], title = '10-2_spread')\n",
    "plt.show()"
   ]
  },
  {
   "cell_type": "markdown",
   "id": "510cf39a",
   "metadata": {},
   "source": [
    "## xlf 시각화"
   ]
  },
  {
   "cell_type": "code",
   "execution_count": 52,
   "id": "4fae2647",
   "metadata": {
    "ExecuteTime": {
     "end_time": "2022-06-08T11:37:48.453090Z",
     "start_time": "2022-06-08T11:37:48.313573Z"
    }
   },
   "outputs": [
    {
     "data": {
      "image/png": "[encoded data removed]",
      "text/plain": [
       "<Figure size 432x288 with 1 Axes>"
      ]
     },
     "metadata": {
      "needs_background": "light"
     },
     "output_type": "display_data"
    }
   ],
   "source": [
    "jpm_xlf_spread['Close_y'].plot()\n",
    "plt.show()"
   ]
  },
  {
   "cell_type": "markdown",
   "id": "94257503",
   "metadata": {},
   "source": [
    "# 데이터 변환"
   ]
  },
  {
   "cell_type": "code",
   "execution_count": 30,
   "id": "6d61e069",
   "metadata": {
    "ExecuteTime": {
     "end_time": "2022-06-08T11:35:49.001455Z",
     "start_time": "2022-06-08T11:35:48.646140Z"
    }
   },
   "outputs": [
    {
     "data": {
      "image/png": "[encoded data removed]",
      "text/plain": [
       "<Figure size 1296x1080 with 2 Axes>"
      ]
     },
     "metadata": {
      "needs_background": "light"
     },
     "output_type": "display_data"
    }
   ],
   "source": [
    "# jpm_close는 로그씌우고 차분, spread는 차분만 해줍니다.\n",
    "fig, axs = plt.subplots(2, 1, figsize=(18,15))\n",
    "np.log(jpm_spread['Close']).diff(1).dropna().plot(ax = axs[0], title = 'log(jpm_close_price).diff(1)')\n",
    "jpm_spread['spread'].diff(1).dropna().plot(ax = axs[1], title = '(10-2_spread).diff(1)')\n",
    "plt.show()"
   ]
  },
  {
   "cell_type": "code",
   "execution_count": 55,
   "id": "8eb8bd08",
   "metadata": {
    "ExecuteTime": {
     "end_time": "2022-06-08T11:38:49.232674Z",
     "start_time": "2022-06-08T11:38:49.097798Z"
    }
   },
   "outputs": [
    {
     "data": {
      "image/png": "[encoded data removed]",
      "text/plain": [
       "<Figure size 432x288 with 1 Axes>"
      ]
     },
     "metadata": {
      "needs_background": "light"
     },
     "output_type": "display_data"
    }
   ],
   "source": [
    "# xlf 데이터 로그씌우고 차분 시각화\n",
    "np.log(jpm_xlf_spread['Close_y']).diff(1).dropna().plot()\n",
    "plt.show()"
   ]
  },
  {
   "cell_type": "code",
   "execution_count": 57,
   "id": "e8f4c0f0",
   "metadata": {
    "ExecuteTime": {
     "end_time": "2022-06-08T11:39:25.797285Z",
     "start_time": "2022-06-08T11:39:25.777725Z"
    }
   },
   "outputs": [
    {
     "data": {
      "text/plain": [
       "(-40.86776449576335,\n",
       " 0.0,\n",
       " 3,\n",
       " 5785,\n",
       " {'1%': -3.4314808909275203,\n",
       "  '5%': -2.8620397464285667,\n",
       "  '10%': -2.5670360130624235})"
      ]
     },
     "execution_count": 57,
     "metadata": {},
     "output_type": "execute_result"
    }
   ],
   "source": [
    "# 로그 씌우고 차분한 xlf adf테스트 결과 단위근 없음\n",
    "sm.tsa.stattools.adfuller(np.log(jpm_xlf_spread['Close_y']).diff(1).dropna(), maxlag=3, autolag=None)"
   ]
  },
  {
   "cell_type": "markdown",
   "id": "dd75d9f4",
   "metadata": {},
   "source": [
    "# 정상성 테스트"
   ]
  },
  {
   "cell_type": "markdown",
   "id": "cb71f530",
   "metadata": {},
   "source": [
    "## adf테스트"
   ]
  },
  {
   "cell_type": "markdown",
   "id": "262b6edd",
   "metadata": {},
   "source": [
    "### jpm의 종가데이터"
   ]
  },
  {
   "cell_type": "code",
   "execution_count": 31,
   "id": "18c9b065",
   "metadata": {
    "ExecuteTime": {
     "end_time": "2022-06-08T11:35:49.032101Z",
     "start_time": "2022-06-08T11:35:49.003556Z"
    }
   },
   "outputs": [
    {
     "data": {
      "text/plain": [
       "(-47.34885677511827,\n",
       " 0.0,\n",
       " 3,\n",
       " 8058,\n",
       " {'1%': -3.4311617875863143,\n",
       "  '5%': -2.8618987523029547,\n",
       "  '10%': -2.5669609591210807})"
      ]
     },
     "execution_count": 31,
     "metadata": {},
     "output_type": "execute_result"
    }
   ],
   "source": [
    "# adf테스트에서 일단 상수항이 있다고 가정(디폴트값)합니다.\n",
    "# 분기는 lag=3, 월은 lag=6~10으로 많이 씁니다. 하지만 보통 lag는 3으로 씁니다. (이서진 교수님 왈)\n",
    "# 나는 일단위 데이터인데 lag=3으로 해도 되나?\n",
    "sm.tsa.stattools.adfuller(np.log(jpm_spread['Close']).diff(1).dropna(), maxlag=3, autolag=None)\n",
    "\n",
    "# 첫번째는 adf 통계량입니다.\n",
    "# 두번째는 p-value입니다.\n",
    "# 세번째는 사용한 lag입니다. The number of lags used.\n",
    "# 네번째는 관측치의 수입니다.\n",
    "# 딕셔너리 형태인 다섯번째는 유의수준에 따른 critical value입니다.\n",
    "# 마지막은 The maximized information criterion if autolag is not None."
   ]
  },
  {
   "cell_type": "code",
   "execution_count": 32,
   "id": "56e961fb",
   "metadata": {
    "ExecuteTime": {
     "end_time": "2022-06-08T11:35:49.047518Z",
     "start_time": "2022-06-08T11:35:49.033682Z"
    }
   },
   "outputs": [
    {
     "data": {
      "text/plain": [
       "(-47.34885677511827, 0.0, 3, 8058)"
      ]
     },
     "execution_count": 32,
     "metadata": {},
     "output_type": "execute_result"
    }
   ],
   "source": [
    "# 보기 좋게 만들기 위해 adf 통계량, p-vlaue, 사용한 lag, 관측치의 수만 따로 뽑습니다.\n",
    "sm.tsa.stattools.adfuller(np.log(jpm_spread['Close']).diff(1).dropna(), maxlag=3, autolag=None)[0:4]"
   ]
  },
  {
   "cell_type": "code",
   "execution_count": 33,
   "id": "b979fa2b",
   "metadata": {
    "ExecuteTime": {
     "end_time": "2022-06-08T11:35:49.063563Z",
     "start_time": "2022-06-08T11:35:49.049435Z"
    }
   },
   "outputs": [
    {
     "data": {
      "text/plain": [
       "Test Statistics       -47.35\n",
       "p-value                 0.00\n",
       "Used Lag                3.00\n",
       "Used Observations   8,058.00\n",
       "dtype: float64"
      ]
     },
     "execution_count": 33,
     "metadata": {},
     "output_type": "execute_result"
    }
   ],
   "source": [
    "# 시리즈 형태로 붙이고 인덱스를 붙여줍니다.\n",
    "Stationarity = pd.Series(sm.tsa.stattools.adfuller(np.log(jpm_spread['Close']).diff(1).dropna(), maxlag=3, autolag=None)[0:4],\n",
    "         index=['Test Statistics', 'p-value', 'Used Lag', 'Used Observations'])\n",
    "Stationarity"
   ]
  },
  {
   "cell_type": "code",
   "execution_count": 34,
   "id": "da7587f2",
   "metadata": {
    "ExecuteTime": {
     "end_time": "2022-06-08T11:35:49.298418Z",
     "start_time": "2022-06-08T11:35:49.065046Z"
    }
   },
   "outputs": [],
   "source": [
    "# 딕셔너리 형태인 다섯번째는 유의수준에 따른 critical value도 Series에 넣어줍니다.\n",
    "for key, value in sm.tsa.stattools.adfuller(np.log(jpm_spread['Close']).diff(1).dropna())[4].items():\n",
    "    Stationarity['Critical Value(%s)'%key] = value"
   ]
  },
  {
   "cell_type": "code",
   "execution_count": 35,
   "id": "6cb38e08",
   "metadata": {
    "ExecuteTime": {
     "end_time": "2022-06-08T11:35:49.314292Z",
     "start_time": "2022-06-08T11:35:49.299935Z"
    }
   },
   "outputs": [
    {
     "data": {
      "text/plain": [
       "Test Statistics         -47.35\n",
       "p-value                   0.00\n",
       "Used Lag                  3.00\n",
       "Used Observations     8,058.00\n",
       "Critical Value(1%)       -3.43\n",
       "Critical Value(5%)       -2.86\n",
       "Critical Value(10%)      -2.57\n",
       "dtype: float64"
      ]
     },
     "execution_count": 35,
     "metadata": {},
     "output_type": "execute_result"
    }
   ],
   "source": [
    "Stationarity"
   ]
  },
  {
   "cell_type": "code",
   "execution_count": 36,
   "id": "f98292d6",
   "metadata": {
    "ExecuteTime": {
     "end_time": "2022-06-08T11:35:49.563078Z",
     "start_time": "2022-06-08T11:35:49.315849Z"
    }
   },
   "outputs": [
    {
     "data": {
      "text/plain": [
       "Test Statistics                    -47.35\n",
       "p-value                              0.00\n",
       "Used Lag                             3.00\n",
       "Used Observations                8,058.00\n",
       "Critical Value(1%)                  -3.43\n",
       "Critical Value(5%)                  -2.86\n",
       "Critical Value(10%)                 -2.57\n",
       "Maximum Information Criteria   -37,354.41\n",
       "dtype: float64"
      ]
     },
     "execution_count": 36,
     "metadata": {},
     "output_type": "execute_result"
    }
   ],
   "source": [
    "# 마지막인 The maximized information criterion if autolag is not None도 Series에 넣어줍니다.\n",
    "Stationarity['Maximum Information Criteria'] = sm.tsa.stattools.adfuller(np.log(jpm_spread['Close']).diff(1).dropna())[5]\n",
    "Stationarity"
   ]
  },
  {
   "cell_type": "code",
   "execution_count": 37,
   "id": "8186d0f1",
   "metadata": {
    "ExecuteTime": {
     "end_time": "2022-06-08T11:35:49.578981Z",
     "start_time": "2022-06-08T11:35:49.565702Z"
    }
   },
   "outputs": [
    {
     "data": {
      "text/html": [
       "<div>\n",
       "<style scoped>\n",
       "    .dataframe tbody tr th:only-of-type {\n",
       "        vertical-align: middle;\n",
       "    }\n",
       "\n",
       "    .dataframe tbody tr th {\n",
       "        vertical-align: top;\n",
       "    }\n",
       "\n",
       "    .dataframe thead th {\n",
       "        text-align: right;\n",
       "    }\n",
       "</style>\n",
       "<table border=\"1\" class=\"dataframe\">\n",
       "  <thead>\n",
       "    <tr style=\"text-align: right;\">\n",
       "      <th></th>\n",
       "      <th>Stationarity</th>\n",
       "    </tr>\n",
       "  </thead>\n",
       "  <tbody>\n",
       "    <tr>\n",
       "      <th>Test Statistics</th>\n",
       "      <td>-47.35</td>\n",
       "    </tr>\n",
       "    <tr>\n",
       "      <th>p-value</th>\n",
       "      <td>0.00</td>\n",
       "    </tr>\n",
       "    <tr>\n",
       "      <th>Used Lag</th>\n",
       "      <td>3.00</td>\n",
       "    </tr>\n",
       "    <tr>\n",
       "      <th>Used Observations</th>\n",
       "      <td>8,058.00</td>\n",
       "    </tr>\n",
       "    <tr>\n",
       "      <th>Critical Value(1%)</th>\n",
       "      <td>-3.43</td>\n",
       "    </tr>\n",
       "    <tr>\n",
       "      <th>Critical Value(5%)</th>\n",
       "      <td>-2.86</td>\n",
       "    </tr>\n",
       "    <tr>\n",
       "      <th>Critical Value(10%)</th>\n",
       "      <td>-2.57</td>\n",
       "    </tr>\n",
       "    <tr>\n",
       "      <th>Maximum Information Criteria</th>\n",
       "      <td>-37,354.41</td>\n",
       "    </tr>\n",
       "  </tbody>\n",
       "</table>\n",
       "</div>"
      ],
      "text/plain": [
       "                              Stationarity\n",
       "Test Statistics                     -47.35\n",
       "p-value                               0.00\n",
       "Used Lag                              3.00\n",
       "Used Observations                 8,058.00\n",
       "Critical Value(1%)                   -3.43\n",
       "Critical Value(5%)                   -2.86\n",
       "Critical Value(10%)                  -2.57\n",
       "Maximum Information Criteria    -37,354.41"
      ]
     },
     "execution_count": 37,
     "metadata": {},
     "output_type": "execute_result"
    }
   ],
   "source": [
    "# DataFrame 형태로 변환해줍니다.\n",
    "Stationarity = pd.DataFrame(Stationarity, columns=['Stationarity'])\n",
    "Stationarity"
   ]
  },
  {
   "cell_type": "markdown",
   "id": "62049868",
   "metadata": {},
   "source": [
    "### spread 데이터"
   ]
  },
  {
   "cell_type": "code",
   "execution_count": 38,
   "id": "5d43d2af",
   "metadata": {
    "ExecuteTime": {
     "end_time": "2022-06-08T11:35:49.595042Z",
     "start_time": "2022-06-08T11:35:49.580488Z"
    }
   },
   "outputs": [
    {
     "data": {
      "text/plain": [
       "(-46.31620156375627,\n",
       " 0.0,\n",
       " 3,\n",
       " 8058,\n",
       " {'1%': -3.4311617875863143,\n",
       "  '5%': -2.8618987523029547,\n",
       "  '10%': -2.5669609591210807})"
      ]
     },
     "execution_count": 38,
     "metadata": {},
     "output_type": "execute_result"
    }
   ],
   "source": [
    "# adf테스트에서 일단 상수항이 있다고 가정(디폴트값)합니다.\n",
    "# 분기는 lag=3, 월은 lag=6~10으로 많이 씁니다. 하지만 보통 lag는 3으로 씁니다. (이서진 교수님 왈)\n",
    "# 나는 일단위 데이터인데 lag=3으로 해도 되나?\n",
    "\n",
    "sm.tsa.stattools.adfuller(jpm_spread['spread'].diff(1).dropna(), maxlag=3, autolag=None)"
   ]
  },
  {
   "cell_type": "code",
   "execution_count": 39,
   "id": "10f5d389",
   "metadata": {
    "ExecuteTime": {
     "end_time": "2022-06-08T11:35:49.610375Z",
     "start_time": "2022-06-08T11:35:49.596552Z"
    }
   },
   "outputs": [
    {
     "data": {
      "text/plain": [
       "(-46.31620156375627, 0.0, 3, 8058)"
      ]
     },
     "execution_count": 39,
     "metadata": {},
     "output_type": "execute_result"
    }
   ],
   "source": [
    "# 보기 좋게 만들기 위해 adf 통계량, p-vlaue, 사용한 lag, 관측치의 수만 따로 뽑습니다.\n",
    "sm.tsa.stattools.adfuller(jpm_spread['spread'].diff(1).dropna(), maxlag=3, autolag=None)[0:4]"
   ]
  },
  {
   "cell_type": "code",
   "execution_count": 40,
   "id": "204f7839",
   "metadata": {
    "ExecuteTime": {
     "end_time": "2022-06-08T11:35:49.625664Z",
     "start_time": "2022-06-08T11:35:49.612413Z"
    }
   },
   "outputs": [
    {
     "data": {
      "text/plain": [
       "Test Statistics       -46.32\n",
       "p-value                 0.00\n",
       "Used Lag                3.00\n",
       "Used Observations   8,058.00\n",
       "dtype: float64"
      ]
     },
     "execution_count": 40,
     "metadata": {},
     "output_type": "execute_result"
    }
   ],
   "source": [
    "# 시리즈 형태로 붙이고 인덱스를 붙여줍니다.\n",
    "Stationarity = pd.Series(sm.tsa.stattools.adfuller(jpm_spread['spread'].diff(1).dropna(), maxlag=3, autolag=None)[0:4],\n",
    "         index=['Test Statistics', 'p-value', 'Used Lag', 'Used Observations'])\n",
    "Stationarity"
   ]
  },
  {
   "cell_type": "code",
   "execution_count": 41,
   "id": "b58365c2",
   "metadata": {
    "ExecuteTime": {
     "end_time": "2022-06-08T11:35:49.859518Z",
     "start_time": "2022-06-08T11:35:49.627075Z"
    }
   },
   "outputs": [],
   "source": [
    "# 딕셔너리 형태인 다섯번째는 유의수준에 따른 critical value도 Series에 넣어줍니다.\n",
    "for key, value in sm.tsa.stattools.adfuller(jpm_spread['Close'].diff(1).dropna())[4].items():\n",
    "    Stationarity['Critical Value(%s)'%key] = value"
   ]
  },
  {
   "cell_type": "code",
   "execution_count": 42,
   "id": "fd40fdc8",
   "metadata": {
    "ExecuteTime": {
     "end_time": "2022-06-08T11:35:49.874949Z",
     "start_time": "2022-06-08T11:35:49.861282Z"
    }
   },
   "outputs": [
    {
     "data": {
      "text/plain": [
       "Test Statistics         -46.32\n",
       "p-value                   0.00\n",
       "Used Lag                  3.00\n",
       "Used Observations     8,058.00\n",
       "Critical Value(1%)       -3.43\n",
       "Critical Value(5%)       -2.86\n",
       "Critical Value(10%)      -2.57\n",
       "dtype: float64"
      ]
     },
     "execution_count": 42,
     "metadata": {},
     "output_type": "execute_result"
    }
   ],
   "source": [
    "Stationarity"
   ]
  },
  {
   "cell_type": "code",
   "execution_count": 43,
   "id": "1750e9eb",
   "metadata": {
    "ExecuteTime": {
     "end_time": "2022-06-08T11:35:50.124435Z",
     "start_time": "2022-06-08T11:35:49.876477Z"
    }
   },
   "outputs": [
    {
     "data": {
      "text/plain": [
       "Test Statistics                    -46.32\n",
       "p-value                              0.00\n",
       "Used Lag                             3.00\n",
       "Used Observations                8,058.00\n",
       "Critical Value(1%)                  -3.43\n",
       "Critical Value(5%)                  -2.86\n",
       "Critical Value(10%)                 -2.57\n",
       "Maximum Information Criteria   -37,354.41\n",
       "dtype: float64"
      ]
     },
     "execution_count": 43,
     "metadata": {},
     "output_type": "execute_result"
    }
   ],
   "source": [
    "# 마지막인 The maximized information criterion if autolag is not None도 Series에 넣어줍니다.\n",
    "Stationarity['Maximum Information Criteria'] = sm.tsa.stattools.adfuller(np.log(jpm_spread['Close']).diff(1).dropna())[5]\n",
    "Stationarity"
   ]
  },
  {
   "cell_type": "code",
   "execution_count": 44,
   "id": "d0dd7504",
   "metadata": {
    "ExecuteTime": {
     "end_time": "2022-06-08T11:35:50.139633Z",
     "start_time": "2022-06-08T11:35:50.126419Z"
    }
   },
   "outputs": [
    {
     "data": {
      "text/html": [
       "<div>\n",
       "<style scoped>\n",
       "    .dataframe tbody tr th:only-of-type {\n",
       "        vertical-align: middle;\n",
       "    }\n",
       "\n",
       "    .dataframe tbody tr th {\n",
       "        vertical-align: top;\n",
       "    }\n",
       "\n",
       "    .dataframe thead th {\n",
       "        text-align: right;\n",
       "    }\n",
       "</style>\n",
       "<table border=\"1\" class=\"dataframe\">\n",
       "  <thead>\n",
       "    <tr style=\"text-align: right;\">\n",
       "      <th></th>\n",
       "      <th>Stationarity</th>\n",
       "    </tr>\n",
       "  </thead>\n",
       "  <tbody>\n",
       "    <tr>\n",
       "      <th>Test Statistics</th>\n",
       "      <td>-46.32</td>\n",
       "    </tr>\n",
       "    <tr>\n",
       "      <th>p-value</th>\n",
       "      <td>0.00</td>\n",
       "    </tr>\n",
       "    <tr>\n",
       "      <th>Used Lag</th>\n",
       "      <td>3.00</td>\n",
       "    </tr>\n",
       "    <tr>\n",
       "      <th>Used Observations</th>\n",
       "      <td>8,058.00</td>\n",
       "    </tr>\n",
       "    <tr>\n",
       "      <th>Critical Value(1%)</th>\n",
       "      <td>-3.43</td>\n",
       "    </tr>\n",
       "    <tr>\n",
       "      <th>Critical Value(5%)</th>\n",
       "      <td>-2.86</td>\n",
       "    </tr>\n",
       "    <tr>\n",
       "      <th>Critical Value(10%)</th>\n",
       "      <td>-2.57</td>\n",
       "    </tr>\n",
       "    <tr>\n",
       "      <th>Maximum Information Criteria</th>\n",
       "      <td>-37,354.41</td>\n",
       "    </tr>\n",
       "  </tbody>\n",
       "</table>\n",
       "</div>"
      ],
      "text/plain": [
       "                              Stationarity\n",
       "Test Statistics                     -46.32\n",
       "p-value                               0.00\n",
       "Used Lag                              3.00\n",
       "Used Observations                 8,058.00\n",
       "Critical Value(1%)                   -3.43\n",
       "Critical Value(5%)                   -2.86\n",
       "Critical Value(10%)                  -2.57\n",
       "Maximum Information Criteria    -37,354.41"
      ]
     },
     "execution_count": 44,
     "metadata": {},
     "output_type": "execute_result"
    }
   ],
   "source": [
    "# DataFrame 형태로 변환해줍니다.\n",
    "Stationarity = pd.DataFrame(Stationarity, columns=['Stationarity'])\n",
    "Stationarity"
   ]
  },
  {
   "cell_type": "markdown",
   "id": "06639ebf",
   "metadata": {},
   "source": [
    "# OLS regression(nonrobust)"
   ]
  },
  {
   "cell_type": "markdown",
   "id": "38338071",
   "metadata": {
    "ExecuteTime": {
     "end_time": "2022-06-08T11:49:05.482397Z",
     "start_time": "2022-06-08T11:49:05.474460Z"
    }
   },
   "source": [
    "## jpm과 spread"
   ]
  },
  {
   "cell_type": "code",
   "execution_count": 87,
   "id": "7267b9aa",
   "metadata": {
    "ExecuteTime": {
     "end_time": "2022-06-08T11:55:51.436974Z",
     "start_time": "2022-06-08T11:55:51.415167Z"
    }
   },
   "outputs": [
    {
     "name": "stdout",
     "output_type": "stream",
     "text": [
      "                            OLS Regression Results                            \n",
      "==============================================================================\n",
      "Dep. Variable:                Close_x   R-squared:                       0.144\n",
      "Model:                            OLS   Adj. R-squared:                  0.144\n",
      "Method:                 Least Squares   F-statistic:                     974.5\n",
      "Date:                Wed, 08 Jun 2022   Prob (F-statistic):          7.31e-198\n",
      "Time:                        20:55:51   Log-Likelihood:                -28262.\n",
      "No. Observations:                5790   AIC:                         5.653e+04\n",
      "Df Residuals:                    5788   BIC:                         5.654e+04\n",
      "Df Model:                           1                                         \n",
      "Covariance Type:            nonrobust                                         \n",
      "==============================================================================\n",
      "                 coef    std err          t      P>|t|      [0.025      0.975]\n",
      "------------------------------------------------------------------------------\n",
      "Intercept     79.7489      0.713    111.850      0.000      78.351      81.147\n",
      "spread       -14.6628      0.470    -31.217      0.000     -15.584     -13.742\n",
      "==============================================================================\n",
      "Omnibus:                     1173.200   Durbin-Watson:                   0.002\n",
      "Prob(Omnibus):                  0.000   Jarque-Bera (JB):             2138.314\n",
      "Skew:                           1.274   Prob(JB):                         0.00\n",
      "Kurtosis:                       4.538   Cond. No.                         3.41\n",
      "==============================================================================\n",
      "\n",
      "Notes:\n",
      "[1] Standard Errors assume that the covariance matrix of the errors is correctly specified.\n"
     ]
    }
   ],
   "source": [
    "# 기간은 1999년 6월 1일부터 2022년 6월 2일\n",
    "# Durbin-Watson 검정통계량이 0에 가까워서 Positive Autocorrelation이 확인된다.\n",
    "# Close_x = jpm, Close_y = XLF\n",
    "model1 = smf.ols('Close_x ~ spread',data=jpm_xlf_spread).fit()\n",
    "print(model1.summary())"
   ]
  },
  {
   "cell_type": "markdown",
   "id": "129448a7",
   "metadata": {
    "ExecuteTime": {
     "end_time": "2022-06-03T11:02:52.221548Z",
     "start_time": "2022-06-03T11:02:52.209553Z"
    }
   },
   "source": [
    "### breusch_godfrey(Autocorrelation) 테스트"
   ]
  },
  {
   "cell_type": "code",
   "execution_count": 78,
   "id": "f49d2bab",
   "metadata": {
    "ExecuteTime": {
     "end_time": "2022-06-08T11:52:57.231220Z",
     "start_time": "2022-06-08T11:52:57.216680Z"
    }
   },
   "outputs": [
    {
     "data": {
      "text/plain": [
       "(5776.239392769398, 0.0, 809449.3779034852, 0.0)"
      ]
     },
     "execution_count": 78,
     "metadata": {},
     "output_type": "execute_result"
    }
   ],
   "source": [
    "import statsmodels.stats.diagnostic as dg\n",
    "\n",
    "# 보통 lag는 3으로 많이 씁니다.(이서진 교수님 왈)\n",
    "# 귀무가설 : Autocorrelation이 없다.\n",
    "# 대립가설 : Autocorrelation이 있다.\n",
    "# p-value가 0이므로 Autocorrelation이 있습니다....\n",
    "dg.acorr_breusch_godfrey(model, nlags=3)"
   ]
  },
  {
   "cell_type": "markdown",
   "id": "600b0148",
   "metadata": {},
   "source": [
    "### 시차별 잔차도를 통한 Autocorrelaion 시각화"
   ]
  },
  {
   "cell_type": "code",
   "execution_count": 79,
   "id": "927597ce",
   "metadata": {
    "ExecuteTime": {
     "end_time": "2022-06-08T11:53:08.511916Z",
     "start_time": "2022-06-08T11:53:08.503727Z"
    }
   },
   "outputs": [
    {
     "data": {
      "text/plain": [
       "DATE\n",
       "1999-06-01   -28.15\n",
       "1999-06-02   -28.71\n",
       "1999-06-03   -28.19\n",
       "1999-06-04   -26.39\n",
       "1999-06-07   -24.92\n",
       "              ...  \n",
       "2022-05-25    51.45\n",
       "2022-05-26    53.94\n",
       "2022-05-27    55.48\n",
       "2022-05-31    57.17\n",
       "2022-06-01    54.27\n",
       "Length: 5790, dtype: float64"
      ]
     },
     "execution_count": 79,
     "metadata": {},
     "output_type": "execute_result"
    }
   ],
   "source": [
    "# ols를 돌린 model의 잔차를 확인\n",
    "model.resid"
   ]
  },
  {
   "cell_type": "code",
   "execution_count": 80,
   "id": "7f354e65",
   "metadata": {
    "ExecuteTime": {
     "end_time": "2022-06-08T11:53:10.618865Z",
     "start_time": "2022-06-08T11:53:10.238053Z"
    }
   },
   "outputs": [
    {
     "data": {
      "image/png": "[encoded data removed]",
      "text/plain": [
       "<Figure size 1440x1080 with 4 Axes>"
      ]
     },
     "metadata": {
      "needs_background": "light"
     },
     "output_type": "display_data"
    }
   ],
   "source": [
    "# 1,5,10,50 시차별 잔차도 시각화\n",
    "\n",
    "figure, axes = plt.subplots(2,2, figsize = (20,15))\n",
    "pd.plotting.lag_plot(model.resid, lag=1, ax=axes[0][0])\n",
    "pd.plotting.lag_plot(model.resid, lag=5, ax=axes[0][1])\n",
    "pd.plotting.lag_plot(model.resid, lag=10, ax=axes[1][0])\n",
    "pd.plotting.lag_plot(model.resid, lag=50, ax=axes[1][1])\n",
    "plt.show()"
   ]
  },
  {
   "cell_type": "markdown",
   "id": "4274fddd",
   "metadata": {},
   "source": [
    "## xlf와 spread"
   ]
  },
  {
   "cell_type": "code",
   "execution_count": 86,
   "id": "3c32ff3d",
   "metadata": {
    "ExecuteTime": {
     "end_time": "2022-06-08T11:55:42.523120Z",
     "start_time": "2022-06-08T11:55:42.499265Z"
    },
    "scrolled": false
   },
   "outputs": [
    {
     "name": "stdout",
     "output_type": "stream",
     "text": [
      "                            OLS Regression Results                            \n",
      "==============================================================================\n",
      "Dep. Variable:                Close_y   R-squared:                       0.363\n",
      "Model:                            OLS   Adj. R-squared:                  0.363\n",
      "Method:                 Least Squares   F-statistic:                     3297.\n",
      "Date:                Wed, 08 Jun 2022   Prob (F-statistic):               0.00\n",
      "Time:                        20:55:42   Log-Likelihood:                -18031.\n",
      "No. Observations:                5790   AIC:                         3.607e+04\n",
      "Df Residuals:                    5788   BIC:                         3.608e+04\n",
      "Df Model:                           1                                         \n",
      "Covariance Type:            nonrobust                                         \n",
      "==============================================================================\n",
      "                 coef    std err          t      P>|t|      [0.025      0.975]\n",
      "------------------------------------------------------------------------------\n",
      "Intercept     27.0092      0.122    221.720      0.000      26.770      27.248\n",
      "spread        -4.6079      0.080    -57.420      0.000      -4.765      -4.451\n",
      "==============================================================================\n",
      "Omnibus:                      647.887   Durbin-Watson:                   0.005\n",
      "Prob(Omnibus):                  0.000   Jarque-Bera (JB):             1167.876\n",
      "Skew:                           0.751   Prob(JB):                    2.51e-254\n",
      "Kurtosis:                       4.608   Cond. No.                         3.41\n",
      "==============================================================================\n",
      "\n",
      "Notes:\n",
      "[1] Standard Errors assume that the covariance matrix of the errors is correctly specified.\n"
     ]
    }
   ],
   "source": [
    "# Close_x = jpm, Close_y = XLF\n",
    "model2 = smf.ols('Close_y ~ spread',data=jpm_xlf_spread).fit()\n",
    "print(model2.summary())"
   ]
  },
  {
   "cell_type": "markdown",
   "id": "be885409",
   "metadata": {
    "ExecuteTime": {
     "end_time": "2022-06-03T11:02:52.221548Z",
     "start_time": "2022-06-03T11:02:52.209553Z"
    }
   },
   "source": [
    "### breusch_godfrey(Autocorrelation) 테스트"
   ]
  },
  {
   "cell_type": "code",
   "execution_count": 88,
   "id": "3e50a79e",
   "metadata": {
    "ExecuteTime": {
     "end_time": "2022-06-08T11:56:36.092527Z",
     "start_time": "2022-06-08T11:56:36.069060Z"
    }
   },
   "outputs": [
    {
     "data": {
      "text/plain": [
       "(5759.4467919255485, 0.0, 363501.37777243275, 0.0)"
      ]
     },
     "execution_count": 88,
     "metadata": {},
     "output_type": "execute_result"
    }
   ],
   "source": [
    "import statsmodels.stats.diagnostic as dg\n",
    "\n",
    "# 보통 lag는 3으로 많이 씁니다.(이서진 교수님 왈)\n",
    "# 귀무가설 : Autocorrelation이 없다.\n",
    "# 대립가설 : Autocorrelation이 있다.\n",
    "# p-value가 0이므로 Autocorrelation이 있습니다....\n",
    "dg.acorr_breusch_godfrey(model2, nlags=3)"
   ]
  },
  {
   "cell_type": "markdown",
   "id": "f3f66704",
   "metadata": {},
   "source": [
    "### 시차별 잔차도를 통한 Autocorrelaion 시각화"
   ]
  },
  {
   "cell_type": "code",
   "execution_count": 89,
   "id": "8594b1b4",
   "metadata": {
    "ExecuteTime": {
     "end_time": "2022-06-08T11:56:38.125393Z",
     "start_time": "2022-06-08T11:56:38.108375Z"
    }
   },
   "outputs": [
    {
     "data": {
      "text/plain": [
       "DATE\n",
       "1999-06-01   -5.82\n",
       "1999-06-02   -5.90\n",
       "1999-06-03   -5.87\n",
       "1999-06-04   -5.50\n",
       "1999-06-07   -5.17\n",
       "              ... \n",
       "2022-05-25    8.42\n",
       "2022-05-26    9.31\n",
       "2022-05-27    9.80\n",
       "2022-05-31    9.94\n",
       "2022-06-01    9.18\n",
       "Length: 5790, dtype: float64"
      ]
     },
     "execution_count": 89,
     "metadata": {},
     "output_type": "execute_result"
    }
   ],
   "source": [
    "# ols를 돌린 model의 잔차를 확인\n",
    "model2.resid"
   ]
  },
  {
   "cell_type": "code",
   "execution_count": 90,
   "id": "bda03ba7",
   "metadata": {
    "ExecuteTime": {
     "end_time": "2022-06-08T11:56:39.818057Z",
     "start_time": "2022-06-08T11:56:39.355447Z"
    }
   },
   "outputs": [
    {
     "data": {
      "image/png": "[encoded data removed]",
      "text/plain": [
       "<Figure size 1440x1080 with 4 Axes>"
      ]
     },
     "metadata": {
      "needs_background": "light"
     },
     "output_type": "display_data"
    }
   ],
   "source": [
    "# 1,5,10,50 시차별 잔차도 시각화\n",
    "\n",
    "figure, axes = plt.subplots(2,2, figsize = (20,15))\n",
    "pd.plotting.lag_plot(model2.resid, lag=1, ax=axes[0][0])\n",
    "pd.plotting.lag_plot(model2.resid, lag=5, ax=axes[0][1])\n",
    "pd.plotting.lag_plot(model2.resid, lag=10, ax=axes[1][0])\n",
    "pd.plotting.lag_plot(model2.resid, lag=50, ax=axes[1][1])\n",
    "plt.show()"
   ]
  },
  {
   "cell_type": "markdown",
   "id": "fca6d591",
   "metadata": {},
   "source": [
    "# OLS regression(HAC estimator)"
   ]
  },
  {
   "cell_type": "markdown",
   "id": "3eb3f197",
   "metadata": {},
   "source": [
    "## jpm과 spread"
   ]
  },
  {
   "cell_type": "code",
   "execution_count": 91,
   "id": "6ae6fdd6",
   "metadata": {
    "ExecuteTime": {
     "end_time": "2022-06-08T11:57:20.862206Z",
     "start_time": "2022-06-08T11:57:20.826309Z"
    }
   },
   "outputs": [
    {
     "name": "stdout",
     "output_type": "stream",
     "text": [
      "                            OLS Regression Results                            \n",
      "==============================================================================\n",
      "Dep. Variable:                Close_x   R-squared:                       0.144\n",
      "Model:                            OLS   Adj. R-squared:                  0.144\n",
      "Method:                 Least Squares   F-statistic:                     341.8\n",
      "Date:                Wed, 08 Jun 2022   Prob (F-statistic):           3.34e-74\n",
      "Time:                        20:57:20   Log-Likelihood:                -28262.\n",
      "No. Observations:                5790   AIC:                         5.653e+04\n",
      "Df Residuals:                    5788   BIC:                         5.654e+04\n",
      "Df Model:                           1                                         \n",
      "Covariance Type:                  HAC                                         \n",
      "==============================================================================\n",
      "                 coef    std err          t      P>|t|      [0.025      0.975]\n",
      "------------------------------------------------------------------------------\n",
      "Intercept     79.7489      1.603     49.741      0.000      76.606      82.892\n",
      "spread       -14.6628      0.793    -18.489      0.000     -16.217     -13.108\n",
      "==============================================================================\n",
      "Omnibus:                     1173.200   Durbin-Watson:                   0.002\n",
      "Prob(Omnibus):                  0.000   Jarque-Bera (JB):             2138.314\n",
      "Skew:                           1.274   Prob(JB):                         0.00\n",
      "Kurtosis:                       4.538   Cond. No.                         3.41\n",
      "==============================================================================\n",
      "\n",
      "Notes:\n",
      "[1] Standard Errors are heteroscedasticity and autocorrelation robust (HAC) using 3 lags and without small sample correction\n"
     ]
    }
   ],
   "source": [
    "# Close_x = jpm, Close_y = XLF\n",
    "model1_hac = smf.ols('Close_x ~ spread',data=jpm_xlf_spread).fit(cov_type='HAC',cov_kwds={'maxlags':3}, use_t=True)\n",
    "print(model1_hac.summary())"
   ]
  },
  {
   "cell_type": "markdown",
   "id": "ddc4d28e",
   "metadata": {},
   "source": [
    "## xlf와 spread"
   ]
  },
  {
   "cell_type": "code",
   "execution_count": 93,
   "id": "d9ea6536",
   "metadata": {
    "ExecuteTime": {
     "end_time": "2022-06-08T11:57:51.962235Z",
     "start_time": "2022-06-08T11:57:51.944167Z"
    }
   },
   "outputs": [
    {
     "name": "stdout",
     "output_type": "stream",
     "text": [
      "                            OLS Regression Results                            \n",
      "==============================================================================\n",
      "Dep. Variable:                Close_y   R-squared:                       0.363\n",
      "Model:                            OLS   Adj. R-squared:                  0.363\n",
      "Method:                 Least Squares   F-statistic:                     1170.\n",
      "Date:                Wed, 08 Jun 2022   Prob (F-statistic):          1.10e-233\n",
      "Time:                        20:57:51   Log-Likelihood:                -18031.\n",
      "No. Observations:                5790   AIC:                         3.607e+04\n",
      "Df Residuals:                    5788   BIC:                         3.608e+04\n",
      "Df Model:                           1                                         \n",
      "Covariance Type:                  HAC                                         \n",
      "==============================================================================\n",
      "                 coef    std err          t      P>|t|      [0.025      0.975]\n",
      "------------------------------------------------------------------------------\n",
      "Intercept     27.0092      0.227    118.870      0.000      26.564      27.455\n",
      "spread        -4.6079      0.135    -34.203      0.000      -4.872      -4.344\n",
      "==============================================================================\n",
      "Omnibus:                      647.887   Durbin-Watson:                   0.005\n",
      "Prob(Omnibus):                  0.000   Jarque-Bera (JB):             1167.876\n",
      "Skew:                           0.751   Prob(JB):                    2.51e-254\n",
      "Kurtosis:                       4.608   Cond. No.                         3.41\n",
      "==============================================================================\n",
      "\n",
      "Notes:\n",
      "[1] Standard Errors are heteroscedasticity and autocorrelation robust (HAC) using 3 lags and without small sample correction\n"
     ]
    }
   ],
   "source": [
    "# Close_x = jpm, Close_y = XLF\n",
    "model2_hac = smf.ols('Close_y ~ spread',data=jpm_xlf_spread).fit(cov_type='HAC',cov_kwds={'maxlags':3}, use_t=True)\n",
    "print(model2_hac.summary())"
   ]
  },
  {
   "cell_type": "code",
   "execution_count": null,
   "id": "bf41a3d2",
   "metadata": {},
   "outputs": [],
   "source": []
  }
 ],
 "metadata": {
  "kernelspec": {
   "display_name": "Python 3 (ipykernel)",
   "language": "python",
   "name": "python3"
  },
  "language_info": {
   "codemirror_mode": {
    "name": "ipython",
    "version": 3
   },
   "file_extension": ".py",
   "mimetype": "text/x-python",
   "name": "python",
   "nbconvert_exporter": "python",
   "pygments_lexer": "ipython3",
   "version": "3.9.7"
  },
  "toc": {
   "base_numbering": 1,
   "nav_menu": {},
   "number_sections": true,
   "sideBar": true,
   "skip_h1_title": false,
   "title_cell": "Table of Contents",
   "title_sidebar": "Contents",
   "toc_cell": false,
   "toc_position": {
    "height": "calc(100% - 180px)",
    "left": "10px",
    "top": "150px",
    "width": "303.825px"
   },
   "toc_section_display": true,
   "toc_window_display": false
  },
  "varInspector": {
   "cols": {
    "lenName": 16,
    "lenType": 16,
    "lenVar": 40
   },
   "kernels_config": {
    "python": {
     "delete_cmd_postfix": "",
     "delete_cmd_prefix": "del ",
     "library": "var_list.py",
     "varRefreshCmd": "print(var_dic_list())"
    },
    "r": {
     "delete_cmd_postfix": ") ",
     "delete_cmd_prefix": "rm(",
     "library": "var_list.r",
     "varRefreshCmd": "cat(var_dic_list()) "
    }
   },
   "types_to_exclude": [
    "module",
    "function",
    "builtin_function_or_method",
    "instance",
    "_Feature"
   ],
   "window_display": false
  }
 },
 "nbformat": 4,
 "nbformat_minor": 5
}
