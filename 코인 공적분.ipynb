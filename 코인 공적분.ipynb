{
 "cells": [
  {
   "cell_type": "markdown",
   "id": "6f5d976e",
   "metadata": {},
   "source": [
    "# 필요 모듈 및 데이터 로딩 로딩"
   ]
  },
  {
   "cell_type": "code",
   "execution_count": 1,
   "id": "14d1cdc7",
   "metadata": {
    "ExecuteTime": {
     "end_time": "2022-06-12T13:18:10.771250Z",
     "start_time": "2022-06-12T13:17:56.545819Z"
    }
   },
   "outputs": [],
   "source": [
    "# 필요 모듈 로딩\n",
    "import pandas as pd\n",
    "import numpy as np\n",
    "import seaborn as sns\n",
    "import matplotlib.pyplot as plt\n",
    "import statsmodels.api as sm\n",
    "import statsmodels.formula.api as smf\n",
    "import FinanceDataReader as fdr\n",
    "import pandas_datareader as pdr\n",
    "import yfinance as yf\n",
    "\n",
    "from module import stationarity_adf_test, stationarity_kpss_test\n",
    "\n",
    "from IPython.display import display_html\n",
    "def display_side_by_side(*args):\n",
    "    \"\"\"여러 데이터프레임 비교가 쉽게 옆쪽으로 표시한다\"\"\"\n",
    "    html_str=''\n",
    "    for df in args:\n",
    "        html_str += df.to_html()\n",
    "    display_html(html_str.replace('table','table style=\"display:inline\"'), raw=True)"
   ]
  },
  {
   "cell_type": "code",
   "execution_count": 2,
   "id": "bccbf881",
   "metadata": {
    "ExecuteTime": {
     "end_time": "2022-06-12T13:18:11.842471Z",
     "start_time": "2022-06-12T13:18:10.773176Z"
    }
   },
   "outputs": [
    {
     "data": {
      "text/html": [
       "<div>\n",
       "<style scoped>\n",
       "    .dataframe tbody tr th:only-of-type {\n",
       "        vertical-align: middle;\n",
       "    }\n",
       "\n",
       "    .dataframe tbody tr th {\n",
       "        vertical-align: top;\n",
       "    }\n",
       "\n",
       "    .dataframe thead th {\n",
       "        text-align: right;\n",
       "    }\n",
       "</style>\n",
       "<table border=\"1\" class=\"dataframe\">\n",
       "  <thead>\n",
       "    <tr style=\"text-align: right;\">\n",
       "      <th></th>\n",
       "      <th>Close</th>\n",
       "    </tr>\n",
       "    <tr>\n",
       "      <th>Date</th>\n",
       "      <th></th>\n",
       "    </tr>\n",
       "  </thead>\n",
       "  <tbody>\n",
       "    <tr>\n",
       "      <th>2020-01-02</th>\n",
       "      <td>9,092.19</td>\n",
       "    </tr>\n",
       "    <tr>\n",
       "      <th>2020-01-03</th>\n",
       "      <td>9,020.77</td>\n",
       "    </tr>\n",
       "    <tr>\n",
       "      <th>2020-01-06</th>\n",
       "      <td>9,071.47</td>\n",
       "    </tr>\n",
       "    <tr>\n",
       "      <th>2020-01-07</th>\n",
       "      <td>9,068.58</td>\n",
       "    </tr>\n",
       "    <tr>\n",
       "      <th>2020-01-08</th>\n",
       "      <td>9,129.24</td>\n",
       "    </tr>\n",
       "    <tr>\n",
       "      <th>...</th>\n",
       "      <td>...</td>\n",
       "    </tr>\n",
       "    <tr>\n",
       "      <th>2021-12-27</th>\n",
       "      <td>15,871.26</td>\n",
       "    </tr>\n",
       "    <tr>\n",
       "      <th>2021-12-28</th>\n",
       "      <td>15,781.72</td>\n",
       "    </tr>\n",
       "    <tr>\n",
       "      <th>2021-12-29</th>\n",
       "      <td>15,766.22</td>\n",
       "    </tr>\n",
       "    <tr>\n",
       "      <th>2021-12-30</th>\n",
       "      <td>15,741.56</td>\n",
       "    </tr>\n",
       "    <tr>\n",
       "      <th>2021-12-31</th>\n",
       "      <td>15,644.97</td>\n",
       "    </tr>\n",
       "  </tbody>\n",
       "</table>\n",
       "<p>505 rows × 1 columns</p>\n",
       "</div>"
      ],
      "text/plain": [
       "               Close\n",
       "Date                \n",
       "2020-01-02  9,092.19\n",
       "2020-01-03  9,020.77\n",
       "2020-01-06  9,071.47\n",
       "2020-01-07  9,068.58\n",
       "2020-01-08  9,129.24\n",
       "...              ...\n",
       "2021-12-27 15,871.26\n",
       "2021-12-28 15,781.72\n",
       "2021-12-29 15,766.22\n",
       "2021-12-30 15,741.56\n",
       "2021-12-31 15,644.97\n",
       "\n",
       "[505 rows x 1 columns]"
      ]
     },
     "execution_count": 2,
     "metadata": {},
     "output_type": "execute_result"
    }
   ],
   "source": [
    "# 나스닥 종가 로딩\n",
    "nasdaq = fdr.DataReader('IXIC', start='2020-01-01', end='2022-01-01')\n",
    "nasdaq = nasdaq[['Close']]\n",
    "nasdaq"
   ]
  },
  {
   "cell_type": "code",
   "execution_count": 3,
   "id": "72ed6cf1",
   "metadata": {
    "ExecuteTime": {
     "end_time": "2022-06-12T13:18:12.400554Z",
     "start_time": "2022-06-12T13:18:11.844900Z"
    }
   },
   "outputs": [
    {
     "name": "stdout",
     "output_type": "stream",
     "text": [
      "[*********************100%***********************]  1 of 1 completed\n"
     ]
    },
    {
     "data": {
      "text/html": [
       "<div>\n",
       "<style scoped>\n",
       "    .dataframe tbody tr th:only-of-type {\n",
       "        vertical-align: middle;\n",
       "    }\n",
       "\n",
       "    .dataframe tbody tr th {\n",
       "        vertical-align: top;\n",
       "    }\n",
       "\n",
       "    .dataframe thead th {\n",
       "        text-align: right;\n",
       "    }\n",
       "</style>\n",
       "<table border=\"1\" class=\"dataframe\">\n",
       "  <thead>\n",
       "    <tr style=\"text-align: right;\">\n",
       "      <th></th>\n",
       "      <th>Close</th>\n",
       "    </tr>\n",
       "    <tr>\n",
       "      <th>Date</th>\n",
       "      <th></th>\n",
       "    </tr>\n",
       "  </thead>\n",
       "  <tbody>\n",
       "    <tr>\n",
       "      <th>2020-01-01</th>\n",
       "      <td>7,200.17</td>\n",
       "    </tr>\n",
       "    <tr>\n",
       "      <th>2020-01-02</th>\n",
       "      <td>6,985.47</td>\n",
       "    </tr>\n",
       "    <tr>\n",
       "      <th>2020-01-03</th>\n",
       "      <td>7,344.88</td>\n",
       "    </tr>\n",
       "    <tr>\n",
       "      <th>2020-01-04</th>\n",
       "      <td>7,410.66</td>\n",
       "    </tr>\n",
       "    <tr>\n",
       "      <th>2020-01-05</th>\n",
       "      <td>7,411.32</td>\n",
       "    </tr>\n",
       "    <tr>\n",
       "      <th>...</th>\n",
       "      <td>...</td>\n",
       "    </tr>\n",
       "    <tr>\n",
       "      <th>2021-12-28</th>\n",
       "      <td>47,588.86</td>\n",
       "    </tr>\n",
       "    <tr>\n",
       "      <th>2021-12-29</th>\n",
       "      <td>46,444.71</td>\n",
       "    </tr>\n",
       "    <tr>\n",
       "      <th>2021-12-30</th>\n",
       "      <td>47,178.12</td>\n",
       "    </tr>\n",
       "    <tr>\n",
       "      <th>2021-12-31</th>\n",
       "      <td>46,306.45</td>\n",
       "    </tr>\n",
       "    <tr>\n",
       "      <th>2022-01-01</th>\n",
       "      <td>47,686.81</td>\n",
       "    </tr>\n",
       "  </tbody>\n",
       "</table>\n",
       "<p>732 rows × 1 columns</p>\n",
       "</div>"
      ],
      "text/plain": [
       "               Close\n",
       "Date                \n",
       "2020-01-01  7,200.17\n",
       "2020-01-02  6,985.47\n",
       "2020-01-03  7,344.88\n",
       "2020-01-04  7,410.66\n",
       "2020-01-05  7,411.32\n",
       "...              ...\n",
       "2021-12-28 47,588.86\n",
       "2021-12-29 46,444.71\n",
       "2021-12-30 47,178.12\n",
       "2021-12-31 46,306.45\n",
       "2022-01-01 47,686.81\n",
       "\n",
       "[732 rows x 1 columns]"
      ]
     },
     "execution_count": 3,
     "metadata": {},
     "output_type": "execute_result"
    }
   ],
   "source": [
    "# 비트코인 종가 로딩\n",
    "bit = yf.download('BTC-USD',start='2020-01-02', end='2022-01-02')\n",
    "bit = bit[['Close']]\n",
    "bit"
   ]
  },
  {
   "cell_type": "code",
   "execution_count": 4,
   "id": "a5012e64",
   "metadata": {
    "ExecuteTime": {
     "end_time": "2022-06-12T13:18:12.773586Z",
     "start_time": "2022-06-12T13:18:12.402558Z"
    }
   },
   "outputs": [
    {
     "name": "stdout",
     "output_type": "stream",
     "text": [
      "[*********************100%***********************]  1 of 1 completed\n"
     ]
    },
    {
     "data": {
      "text/html": [
       "<div>\n",
       "<style scoped>\n",
       "    .dataframe tbody tr th:only-of-type {\n",
       "        vertical-align: middle;\n",
       "    }\n",
       "\n",
       "    .dataframe tbody tr th {\n",
       "        vertical-align: top;\n",
       "    }\n",
       "\n",
       "    .dataframe thead th {\n",
       "        text-align: right;\n",
       "    }\n",
       "</style>\n",
       "<table border=\"1\" class=\"dataframe\">\n",
       "  <thead>\n",
       "    <tr style=\"text-align: right;\">\n",
       "      <th></th>\n",
       "      <th>Close</th>\n",
       "    </tr>\n",
       "    <tr>\n",
       "      <th>Date</th>\n",
       "      <th></th>\n",
       "    </tr>\n",
       "  </thead>\n",
       "  <tbody>\n",
       "    <tr>\n",
       "      <th>2020-01-01</th>\n",
       "      <td>130.80</td>\n",
       "    </tr>\n",
       "    <tr>\n",
       "      <th>2020-01-02</th>\n",
       "      <td>127.41</td>\n",
       "    </tr>\n",
       "    <tr>\n",
       "      <th>2020-01-03</th>\n",
       "      <td>134.17</td>\n",
       "    </tr>\n",
       "    <tr>\n",
       "      <th>2020-01-04</th>\n",
       "      <td>135.07</td>\n",
       "    </tr>\n",
       "    <tr>\n",
       "      <th>2020-01-05</th>\n",
       "      <td>136.28</td>\n",
       "    </tr>\n",
       "    <tr>\n",
       "      <th>...</th>\n",
       "      <td>...</td>\n",
       "    </tr>\n",
       "    <tr>\n",
       "      <th>2021-12-28</th>\n",
       "      <td>3,800.89</td>\n",
       "    </tr>\n",
       "    <tr>\n",
       "      <th>2021-12-29</th>\n",
       "      <td>3,628.53</td>\n",
       "    </tr>\n",
       "    <tr>\n",
       "      <th>2021-12-30</th>\n",
       "      <td>3,713.85</td>\n",
       "    </tr>\n",
       "    <tr>\n",
       "      <th>2021-12-31</th>\n",
       "      <td>3,682.63</td>\n",
       "    </tr>\n",
       "    <tr>\n",
       "      <th>2022-01-01</th>\n",
       "      <td>3,769.70</td>\n",
       "    </tr>\n",
       "  </tbody>\n",
       "</table>\n",
       "<p>732 rows × 1 columns</p>\n",
       "</div>"
      ],
      "text/plain": [
       "              Close\n",
       "Date               \n",
       "2020-01-01   130.80\n",
       "2020-01-02   127.41\n",
       "2020-01-03   134.17\n",
       "2020-01-04   135.07\n",
       "2020-01-05   136.28\n",
       "...             ...\n",
       "2021-12-28 3,800.89\n",
       "2021-12-29 3,628.53\n",
       "2021-12-30 3,713.85\n",
       "2021-12-31 3,682.63\n",
       "2022-01-01 3,769.70\n",
       "\n",
       "[732 rows x 1 columns]"
      ]
     },
     "execution_count": 4,
     "metadata": {},
     "output_type": "execute_result"
    }
   ],
   "source": [
    "# 이더리움 종가 로딩\n",
    "eth = yf.download('ETH-USD',start='2020-01-02', end='2022-01-02')\n",
    "eth = eth[['Close']]\n",
    "eth"
   ]
  },
  {
   "cell_type": "code",
   "execution_count": 5,
   "id": "a39e24a8",
   "metadata": {
    "ExecuteTime": {
     "end_time": "2022-06-12T13:18:14.942224Z",
     "start_time": "2022-06-12T13:18:12.775587Z"
    }
   },
   "outputs": [
    {
     "data": {
      "text/html": [
       "<div>\n",
       "<style scoped>\n",
       "    .dataframe tbody tr th:only-of-type {\n",
       "        vertical-align: middle;\n",
       "    }\n",
       "\n",
       "    .dataframe tbody tr th {\n",
       "        vertical-align: top;\n",
       "    }\n",
       "\n",
       "    .dataframe thead th {\n",
       "        text-align: right;\n",
       "    }\n",
       "</style>\n",
       "<table border=\"1\" class=\"dataframe\">\n",
       "  <thead>\n",
       "    <tr style=\"text-align: right;\">\n",
       "      <th></th>\n",
       "      <th>PDI</th>\n",
       "      <th>PCE</th>\n",
       "    </tr>\n",
       "    <tr>\n",
       "      <th>DATE</th>\n",
       "      <th></th>\n",
       "      <th></th>\n",
       "    </tr>\n",
       "  </thead>\n",
       "  <tbody>\n",
       "    <tr>\n",
       "      <th>1970-01-01</th>\n",
       "      <td>24.70</td>\n",
       "      <td>628.70</td>\n",
       "    </tr>\n",
       "    <tr>\n",
       "      <th>1970-02-01</th>\n",
       "      <td>24.50</td>\n",
       "      <td>634.00</td>\n",
       "    </tr>\n",
       "    <tr>\n",
       "      <th>1970-03-01</th>\n",
       "      <td>24.40</td>\n",
       "      <td>632.30</td>\n",
       "    </tr>\n",
       "    <tr>\n",
       "      <th>1970-04-01</th>\n",
       "      <td>24.30</td>\n",
       "      <td>636.00</td>\n",
       "    </tr>\n",
       "    <tr>\n",
       "      <th>1970-05-01</th>\n",
       "      <td>24.30</td>\n",
       "      <td>642.40</td>\n",
       "    </tr>\n",
       "    <tr>\n",
       "      <th>...</th>\n",
       "      <td>...</td>\n",
       "      <td>...</td>\n",
       "    </tr>\n",
       "    <tr>\n",
       "      <th>2009-09-01</th>\n",
       "      <td>494.60</td>\n",
       "      <td>9,927.80</td>\n",
       "    </tr>\n",
       "    <tr>\n",
       "      <th>2009-10-01</th>\n",
       "      <td>485.00</td>\n",
       "      <td>9,976.70</td>\n",
       "    </tr>\n",
       "    <tr>\n",
       "      <th>2009-11-01</th>\n",
       "      <td>479.10</td>\n",
       "      <td>9,985.70</td>\n",
       "    </tr>\n",
       "    <tr>\n",
       "      <th>2009-12-01</th>\n",
       "      <td>476.70</td>\n",
       "      <td>10,052.60</td>\n",
       "    </tr>\n",
       "    <tr>\n",
       "      <th>2010-01-01</th>\n",
       "      <td>495.20</td>\n",
       "      <td>10,056.10</td>\n",
       "    </tr>\n",
       "  </tbody>\n",
       "</table>\n",
       "<p>481 rows × 2 columns</p>\n",
       "</div>"
      ],
      "text/plain": [
       "              PDI       PCE\n",
       "DATE                       \n",
       "1970-01-01  24.70    628.70\n",
       "1970-02-01  24.50    634.00\n",
       "1970-03-01  24.40    632.30\n",
       "1970-04-01  24.30    636.00\n",
       "1970-05-01  24.30    642.40\n",
       "...           ...       ...\n",
       "2009-09-01 494.60  9,927.80\n",
       "2009-10-01 485.00  9,976.70\n",
       "2009-11-01 479.10  9,985.70\n",
       "2009-12-01 476.70 10,052.60\n",
       "2010-01-01 495.20 10,056.10\n",
       "\n",
       "[481 rows x 2 columns]"
      ]
     },
     "execution_count": 5,
     "metadata": {},
     "output_type": "execute_result"
    }
   ],
   "source": [
    "# PDI와 PCE 로딩\n",
    "pdi = fdr.DataReader('PDI', start='1970-01-01', end='2010-01-01', data_source='fred')\n",
    "pce = fdr.DataReader('PCE', start='1970-01-01',  end='2010-01-01', data_source='fred')\n",
    "df1 = pd.merge(pdi,pce, how='inner', on='DATE')\n",
    "df1"
   ]
  },
  {
   "cell_type": "markdown",
   "id": "a5d1f779",
   "metadata": {},
   "source": [
    "# 데이터 시각화"
   ]
  },
  {
   "cell_type": "code",
   "execution_count": 6,
   "id": "096ac4f4",
   "metadata": {
    "ExecuteTime": {
     "end_time": "2022-06-12T13:18:15.051010Z",
     "start_time": "2022-06-12T13:18:14.943162Z"
    }
   },
   "outputs": [
    {
     "data": {
      "text/plain": [
       "[<matplotlib.lines.Line2D at 0x1b4b0fa9250>]"
      ]
     },
     "execution_count": 6,
     "metadata": {},
     "output_type": "execute_result"
    },
    {
     "data": {
      "image/png": "[encoded data removed]",
      "text/plain": [
       "<Figure size 432x288 with 1 Axes>"
      ]
     },
     "metadata": {
      "needs_background": "light"
     },
     "output_type": "display_data"
    }
   ],
   "source": [
    "plt.plot(df1.PDI)"
   ]
  },
  {
   "cell_type": "code",
   "execution_count": 7,
   "id": "f21579e5",
   "metadata": {
    "ExecuteTime": {
     "end_time": "2022-06-12T13:18:15.158954Z",
     "start_time": "2022-06-12T13:18:15.052504Z"
    }
   },
   "outputs": [
    {
     "data": {
      "text/plain": [
       "[<matplotlib.lines.Line2D at 0x1b4b1760f70>]"
      ]
     },
     "execution_count": 7,
     "metadata": {},
     "output_type": "execute_result"
    },
    {
     "data": {
      "image/png": "[encoded data removed]",
      "text/plain": [
       "<Figure size 432x288 with 1 Axes>"
      ]
     },
     "metadata": {
      "needs_background": "light"
     },
     "output_type": "display_data"
    }
   ],
   "source": [
    "plt.plot(df1.PCE)"
   ]
  },
  {
   "cell_type": "markdown",
   "id": "f0e8969f",
   "metadata": {},
   "source": [
    "# 데이터 전처리"
   ]
  },
  {
   "cell_type": "code",
   "execution_count": 8,
   "id": "296e66aa",
   "metadata": {
    "ExecuteTime": {
     "end_time": "2022-06-12T13:18:15.190177Z",
     "start_time": "2022-06-12T13:18:15.160099Z"
    }
   },
   "outputs": [
    {
     "data": {
      "text/html": [
       "<div>\n",
       "<style scoped>\n",
       "    .dataframe tbody tr th:only-of-type {\n",
       "        vertical-align: middle;\n",
       "    }\n",
       "\n",
       "    .dataframe tbody tr th {\n",
       "        vertical-align: top;\n",
       "    }\n",
       "\n",
       "    .dataframe thead th {\n",
       "        text-align: right;\n",
       "    }\n",
       "</style>\n",
       "<table border=\"1\" class=\"dataframe\">\n",
       "  <thead>\n",
       "    <tr style=\"text-align: right;\">\n",
       "      <th></th>\n",
       "      <th>bit</th>\n",
       "      <th>eth</th>\n",
       "      <th>nasdaq</th>\n",
       "    </tr>\n",
       "    <tr>\n",
       "      <th>Date</th>\n",
       "      <th></th>\n",
       "      <th></th>\n",
       "      <th></th>\n",
       "    </tr>\n",
       "  </thead>\n",
       "  <tbody>\n",
       "    <tr>\n",
       "      <th>2020-01-02</th>\n",
       "      <td>6,985.47</td>\n",
       "      <td>127.41</td>\n",
       "      <td>9,092.19</td>\n",
       "    </tr>\n",
       "    <tr>\n",
       "      <th>2020-01-03</th>\n",
       "      <td>7,344.88</td>\n",
       "      <td>134.17</td>\n",
       "      <td>9,020.77</td>\n",
       "    </tr>\n",
       "    <tr>\n",
       "      <th>2020-01-06</th>\n",
       "      <td>7,769.22</td>\n",
       "      <td>144.30</td>\n",
       "      <td>9,071.47</td>\n",
       "    </tr>\n",
       "    <tr>\n",
       "      <th>2020-01-07</th>\n",
       "      <td>8,163.69</td>\n",
       "      <td>143.54</td>\n",
       "      <td>9,068.58</td>\n",
       "    </tr>\n",
       "    <tr>\n",
       "      <th>2020-01-08</th>\n",
       "      <td>8,079.86</td>\n",
       "      <td>141.26</td>\n",
       "      <td>9,129.24</td>\n",
       "    </tr>\n",
       "    <tr>\n",
       "      <th>...</th>\n",
       "      <td>...</td>\n",
       "      <td>...</td>\n",
       "      <td>...</td>\n",
       "    </tr>\n",
       "    <tr>\n",
       "      <th>2021-12-27</th>\n",
       "      <td>50,640.42</td>\n",
       "      <td>4,037.55</td>\n",
       "      <td>15,871.26</td>\n",
       "    </tr>\n",
       "    <tr>\n",
       "      <th>2021-12-28</th>\n",
       "      <td>47,588.86</td>\n",
       "      <td>3,800.89</td>\n",
       "      <td>15,781.72</td>\n",
       "    </tr>\n",
       "    <tr>\n",
       "      <th>2021-12-29</th>\n",
       "      <td>46,444.71</td>\n",
       "      <td>3,628.53</td>\n",
       "      <td>15,766.22</td>\n",
       "    </tr>\n",
       "    <tr>\n",
       "      <th>2021-12-30</th>\n",
       "      <td>47,178.12</td>\n",
       "      <td>3,713.85</td>\n",
       "      <td>15,741.56</td>\n",
       "    </tr>\n",
       "    <tr>\n",
       "      <th>2021-12-31</th>\n",
       "      <td>46,306.45</td>\n",
       "      <td>3,682.63</td>\n",
       "      <td>15,644.97</td>\n",
       "    </tr>\n",
       "  </tbody>\n",
       "</table>\n",
       "<p>505 rows × 3 columns</p>\n",
       "</div>"
      ],
      "text/plain": [
       "                 bit      eth    nasdaq\n",
       "Date                                   \n",
       "2020-01-02  6,985.47   127.41  9,092.19\n",
       "2020-01-03  7,344.88   134.17  9,020.77\n",
       "2020-01-06  7,769.22   144.30  9,071.47\n",
       "2020-01-07  8,163.69   143.54  9,068.58\n",
       "2020-01-08  8,079.86   141.26  9,129.24\n",
       "...              ...      ...       ...\n",
       "2021-12-27 50,640.42 4,037.55 15,871.26\n",
       "2021-12-28 47,588.86 3,800.89 15,781.72\n",
       "2021-12-29 46,444.71 3,628.53 15,766.22\n",
       "2021-12-30 47,178.12 3,713.85 15,741.56\n",
       "2021-12-31 46,306.45 3,682.63 15,644.97\n",
       "\n",
       "[505 rows x 3 columns]"
      ]
     },
     "execution_count": 8,
     "metadata": {},
     "output_type": "execute_result"
    }
   ],
   "source": [
    "# 코인 데이터 프레임을 합쳐줌\n",
    "coin = pd.merge(bit,eth, how='inner', on='Date')\n",
    "\n",
    "# 코인 컬럼명 변경\n",
    "coin.rename(columns={'Close_x':'bit', 'Close_y':'eth'}, inplace=True)\n",
    "\n",
    "# 코인과 나스닥 데이터 프레임을 합쳐줌\n",
    "coin_nasdaq = pd.merge(coin,nasdaq, how='inner', on='Date')\n",
    "\n",
    "# 나스닥 컬럼명 변경\n",
    "coin_nasdaq.rename(columns={'Close':'nasdaq'}, inplace=True)\n",
    "coin_nasdaq"
   ]
  },
  {
   "cell_type": "markdown",
   "id": "53dbfa67",
   "metadata": {},
   "source": [
    "# 정상성 테스트"
   ]
  },
  {
   "cell_type": "code",
   "execution_count": 9,
   "id": "7efacbf6",
   "metadata": {
    "ExecuteTime": {
     "end_time": "2022-06-12T13:18:15.237678Z",
     "start_time": "2022-06-12T13:18:15.192082Z"
    }
   },
   "outputs": [
    {
     "name": "stdout",
     "output_type": "stream",
     "text": [
      "PDI로그씌우고 1차 차분 데이터의 정상성 테스트\n"
     ]
    },
    {
     "data": {
      "text/plain": [
       "Test Statistics      -9.13\n",
       "p-value               0.00\n",
       "Used Lag              3.00\n",
       "Used Observations   476.00\n",
       "dtype: float64"
      ]
     },
     "metadata": {},
     "output_type": "display_data"
    },
    {
     "name": "stdout",
     "output_type": "stream",
     "text": [
      "PCE로그씌우고 1차 차분 데이터의 정상성 테스트\n"
     ]
    },
    {
     "data": {
      "text/plain": [
       "Test Statistics      -8.00\n",
       "p-value               0.00\n",
       "Used Lag              3.00\n",
       "Used Observations   476.00\n",
       "dtype: float64"
      ]
     },
     "metadata": {},
     "output_type": "display_data"
    },
    {
     "name": "stdout",
     "output_type": "stream",
     "text": [
      "bit로그씌우고 1차 차분 데이터의 정상성 테스트\n"
     ]
    },
    {
     "data": {
      "text/plain": [
       "Test Statistics     -10.04\n",
       "p-value               0.00\n",
       "Used Lag              3.00\n",
       "Used Observations   500.00\n",
       "dtype: float64"
      ]
     },
     "metadata": {},
     "output_type": "display_data"
    },
    {
     "name": "stdout",
     "output_type": "stream",
     "text": [
      "eth로그씌우고 1차 차분 데이터의 정상성 테스트\n"
     ]
    },
    {
     "data": {
      "text/plain": [
       "Test Statistics     -10.69\n",
       "p-value               0.00\n",
       "Used Lag              3.00\n",
       "Used Observations   500.00\n",
       "dtype: float64"
      ]
     },
     "metadata": {},
     "output_type": "display_data"
    },
    {
     "name": "stdout",
     "output_type": "stream",
     "text": [
      "nasdaq 로그씌우고 1차 차분 데이터의 정상성 테스트\n"
     ]
    },
    {
     "data": {
      "text/plain": [
       "Test Statistics     -11.38\n",
       "p-value               0.00\n",
       "Used Lag              3.00\n",
       "Used Observations   500.00\n",
       "dtype: float64"
      ]
     },
     "metadata": {},
     "output_type": "display_data"
    }
   ],
   "source": [
    "print('PDI로그씌우고 1차 차분 데이터의 정상성 테스트')\n",
    "display(pd.Series(sm.tsa.stattools.adfuller(np.log(df1['PDI']).diff(1).dropna(), maxlag=3, autolag=None) [0:4], \n",
    "                  index=['Test Statistics', 'p-value', 'Used Lag', 'Used Observations']))\n",
    "\n",
    "print('PCE로그씌우고 1차 차분 데이터의 정상성 테스트')\n",
    "display(pd.Series(sm.tsa.stattools.adfuller(np.log(df1['PCE']).diff(1).dropna(), maxlag=3, autolag=None) [0:4], \n",
    "                  index=['Test Statistics', 'p-value', 'Used Lag', 'Used Observations']))\n",
    "\n",
    "print('bit로그씌우고 1차 차분 데이터의 정상성 테스트')\n",
    "display(pd.Series(sm.tsa.stattools.adfuller(np.log(coin_nasdaq['bit']).diff(1).dropna(), maxlag=3, autolag=None) [0:4], \n",
    "                  index=['Test Statistics', 'p-value', 'Used Lag', 'Used Observations']))\n",
    "\n",
    "print('eth로그씌우고 1차 차분 데이터의 정상성 테스트')\n",
    "display(pd.Series(sm.tsa.stattools.adfuller(np.log(coin_nasdaq['eth']).diff(1).dropna(), maxlag=3, autolag=None) [0:4], \n",
    "                  index=['Test Statistics', 'p-value', 'Used Lag', 'Used Observations']))\n",
    "\n",
    "print('nasdaq 로그씌우고 1차 차분 데이터의 정상성 테스트')\n",
    "display(pd.Series(sm.tsa.stattools.adfuller(np.log(coin_nasdaq['nasdaq']).diff(1).dropna(), maxlag=3, autolag=None) [0:4], \n",
    "                  index=['Test Statistics', 'p-value', 'Used Lag', 'Used Observations']))"
   ]
  },
  {
   "cell_type": "markdown",
   "id": "ed28826a",
   "metadata": {},
   "source": [
    "# OLS"
   ]
  },
  {
   "cell_type": "markdown",
   "id": "08f2cbfc",
   "metadata": {},
   "source": [
    "## 이더와 비트 OLS"
   ]
  },
  {
   "cell_type": "code",
   "execution_count": 10,
   "id": "083021e9",
   "metadata": {
    "ExecuteTime": {
     "end_time": "2022-06-12T13:18:15.269080Z",
     "start_time": "2022-06-12T13:18:15.241043Z"
    }
   },
   "outputs": [
    {
     "name": "stdout",
     "output_type": "stream",
     "text": [
      "                            OLS Regression Results                            \n",
      "==============================================================================\n",
      "Dep. Variable:                    eth   R-squared:                       0.817\n",
      "Model:                            OLS   Adj. R-squared:                  0.817\n",
      "Method:                 Least Squares   F-statistic:                     2251.\n",
      "Date:                Sun, 12 Jun 2022   Prob (F-statistic):          7.82e-188\n",
      "Time:                        22:18:15   Log-Likelihood:                -3958.4\n",
      "No. Observations:                 505   AIC:                             7921.\n",
      "Df Residuals:                     503   BIC:                             7929.\n",
      "Df Model:                           1                                         \n",
      "Covariance Type:            nonrobust                                         \n",
      "==============================================================================\n",
      "                 coef    std err          t      P>|t|      [0.025      0.975]\n",
      "------------------------------------------------------------------------------\n",
      "Intercept   -386.0723     49.098     -7.863      0.000    -482.535    -289.610\n",
      "bit            0.0660      0.001     47.443      0.000       0.063       0.069\n",
      "==============================================================================\n",
      "Omnibus:                       39.059   Durbin-Watson:                   0.023\n",
      "Prob(Omnibus):                  0.000   Jarque-Bera (JB):               48.445\n",
      "Skew:                          -0.649   Prob(JB):                     3.02e-11\n",
      "Kurtosis:                       3.786   Cond. No.                     6.33e+04\n",
      "==============================================================================\n",
      "\n",
      "Notes:\n",
      "[1] Standard Errors assume that the covariance matrix of the errors is correctly specified.\n",
      "[2] The condition number is large, 6.33e+04. This might indicate that there are\n",
      "strong multicollinearity or other numerical problems.\n"
     ]
    }
   ],
   "source": [
    "model1 = smf.ols('eth ~ bit',data=coin_nasdaq).fit()\n",
    "print(model1.summary())"
   ]
  },
  {
   "cell_type": "markdown",
   "id": "f96a2d01",
   "metadata": {},
   "source": [
    "## 이더와 비트의 OLS 잔차항 adf테스트"
   ]
  },
  {
   "cell_type": "code",
   "execution_count": 11,
   "id": "a5053a2d",
   "metadata": {
    "ExecuteTime": {
     "end_time": "2022-06-12T13:18:15.301032Z",
     "start_time": "2022-06-12T13:18:15.271078Z"
    }
   },
   "outputs": [
    {
     "data": {
      "text/plain": [
       "Test Statistics      -2.00\n",
       "p-value               0.29\n",
       "Used Lag             16.00\n",
       "Used Observations   488.00\n",
       "dtype: float64"
      ]
     },
     "metadata": {},
     "output_type": "display_data"
    }
   ],
   "source": [
    "target = model1.resid\n",
    "display(pd.Series(sm.tsa.stattools.adfuller(target)[0:4], \n",
    "                  index=['Test Statistics', 'p-value', 'Used Lag', 'Used Observations']))"
   ]
  },
  {
   "cell_type": "markdown",
   "id": "021f06b4",
   "metadata": {},
   "source": [
    "## PCE와 PDI OLS "
   ]
  },
  {
   "cell_type": "code",
   "execution_count": 12,
   "id": "67b8c0fe",
   "metadata": {
    "ExecuteTime": {
     "end_time": "2022-06-12T13:18:15.316976Z",
     "start_time": "2022-06-12T13:18:15.302541Z"
    }
   },
   "outputs": [
    {
     "data": {
      "text/html": [
       "<div>\n",
       "<style scoped>\n",
       "    .dataframe tbody tr th:only-of-type {\n",
       "        vertical-align: middle;\n",
       "    }\n",
       "\n",
       "    .dataframe tbody tr th {\n",
       "        vertical-align: top;\n",
       "    }\n",
       "\n",
       "    .dataframe thead th {\n",
       "        text-align: right;\n",
       "    }\n",
       "</style>\n",
       "<table border=\"1\" class=\"dataframe\">\n",
       "  <thead>\n",
       "    <tr style=\"text-align: right;\">\n",
       "      <th></th>\n",
       "      <th>PDI</th>\n",
       "      <th>PCE</th>\n",
       "      <th>trend</th>\n",
       "    </tr>\n",
       "    <tr>\n",
       "      <th>DATE</th>\n",
       "      <th></th>\n",
       "      <th></th>\n",
       "      <th></th>\n",
       "    </tr>\n",
       "  </thead>\n",
       "  <tbody>\n",
       "    <tr>\n",
       "      <th>1970-01-01</th>\n",
       "      <td>24.70</td>\n",
       "      <td>628.70</td>\n",
       "      <td>1.00</td>\n",
       "    </tr>\n",
       "    <tr>\n",
       "      <th>1970-02-01</th>\n",
       "      <td>24.50</td>\n",
       "      <td>634.00</td>\n",
       "      <td>2.00</td>\n",
       "    </tr>\n",
       "    <tr>\n",
       "      <th>1970-03-01</th>\n",
       "      <td>24.40</td>\n",
       "      <td>632.30</td>\n",
       "      <td>3.00</td>\n",
       "    </tr>\n",
       "    <tr>\n",
       "      <th>1970-04-01</th>\n",
       "      <td>24.30</td>\n",
       "      <td>636.00</td>\n",
       "      <td>4.00</td>\n",
       "    </tr>\n",
       "    <tr>\n",
       "      <th>1970-05-01</th>\n",
       "      <td>24.30</td>\n",
       "      <td>642.40</td>\n",
       "      <td>5.00</td>\n",
       "    </tr>\n",
       "    <tr>\n",
       "      <th>...</th>\n",
       "      <td>...</td>\n",
       "      <td>...</td>\n",
       "      <td>...</td>\n",
       "    </tr>\n",
       "    <tr>\n",
       "      <th>2009-09-01</th>\n",
       "      <td>494.60</td>\n",
       "      <td>9,927.80</td>\n",
       "      <td>477.00</td>\n",
       "    </tr>\n",
       "    <tr>\n",
       "      <th>2009-10-01</th>\n",
       "      <td>485.00</td>\n",
       "      <td>9,976.70</td>\n",
       "      <td>478.00</td>\n",
       "    </tr>\n",
       "    <tr>\n",
       "      <th>2009-11-01</th>\n",
       "      <td>479.10</td>\n",
       "      <td>9,985.70</td>\n",
       "      <td>479.00</td>\n",
       "    </tr>\n",
       "    <tr>\n",
       "      <th>2009-12-01</th>\n",
       "      <td>476.70</td>\n",
       "      <td>10,052.60</td>\n",
       "      <td>480.00</td>\n",
       "    </tr>\n",
       "    <tr>\n",
       "      <th>2010-01-01</th>\n",
       "      <td>495.20</td>\n",
       "      <td>10,056.10</td>\n",
       "      <td>481.00</td>\n",
       "    </tr>\n",
       "  </tbody>\n",
       "</table>\n",
       "<p>481 rows × 3 columns</p>\n",
       "</div>"
      ],
      "text/plain": [
       "              PDI       PCE  trend\n",
       "DATE                              \n",
       "1970-01-01  24.70    628.70   1.00\n",
       "1970-02-01  24.50    634.00   2.00\n",
       "1970-03-01  24.40    632.30   3.00\n",
       "1970-04-01  24.30    636.00   4.00\n",
       "1970-05-01  24.30    642.40   5.00\n",
       "...           ...       ...    ...\n",
       "2009-09-01 494.60  9,927.80 477.00\n",
       "2009-10-01 485.00  9,976.70 478.00\n",
       "2009-11-01 479.10  9,985.70 479.00\n",
       "2009-12-01 476.70 10,052.60 480.00\n",
       "2010-01-01 495.20 10,056.10 481.00\n",
       "\n",
       "[481 rows x 3 columns]"
      ]
     },
     "execution_count": 12,
     "metadata": {},
     "output_type": "execute_result"
    }
   ],
   "source": [
    "# time-trend 추가\n",
    "df1 = sm.tsa.tsatools.add_trend(df1, trend='t')\n",
    "df1"
   ]
  },
  {
   "cell_type": "code",
   "execution_count": 13,
   "id": "608c1595",
   "metadata": {
    "ExecuteTime": {
     "end_time": "2022-06-12T13:18:15.332735Z",
     "start_time": "2022-06-12T13:18:15.318482Z"
    }
   },
   "outputs": [
    {
     "data": {
      "text/html": [
       "<div>\n",
       "<style scoped>\n",
       "    .dataframe tbody tr th:only-of-type {\n",
       "        vertical-align: middle;\n",
       "    }\n",
       "\n",
       "    .dataframe tbody tr th {\n",
       "        vertical-align: top;\n",
       "    }\n",
       "\n",
       "    .dataframe thead th {\n",
       "        text-align: right;\n",
       "    }\n",
       "</style>\n",
       "<table border=\"1\" class=\"dataframe\">\n",
       "  <thead>\n",
       "    <tr style=\"text-align: right;\">\n",
       "      <th></th>\n",
       "      <th>const</th>\n",
       "      <th>PDI</th>\n",
       "      <th>PCE</th>\n",
       "      <th>trend</th>\n",
       "    </tr>\n",
       "    <tr>\n",
       "      <th>DATE</th>\n",
       "      <th></th>\n",
       "      <th></th>\n",
       "      <th></th>\n",
       "      <th></th>\n",
       "    </tr>\n",
       "  </thead>\n",
       "  <tbody>\n",
       "    <tr>\n",
       "      <th>1970-01-01</th>\n",
       "      <td>1.00</td>\n",
       "      <td>24.70</td>\n",
       "      <td>628.70</td>\n",
       "      <td>1.00</td>\n",
       "    </tr>\n",
       "    <tr>\n",
       "      <th>1970-02-01</th>\n",
       "      <td>1.00</td>\n",
       "      <td>24.50</td>\n",
       "      <td>634.00</td>\n",
       "      <td>2.00</td>\n",
       "    </tr>\n",
       "    <tr>\n",
       "      <th>1970-03-01</th>\n",
       "      <td>1.00</td>\n",
       "      <td>24.40</td>\n",
       "      <td>632.30</td>\n",
       "      <td>3.00</td>\n",
       "    </tr>\n",
       "    <tr>\n",
       "      <th>1970-04-01</th>\n",
       "      <td>1.00</td>\n",
       "      <td>24.30</td>\n",
       "      <td>636.00</td>\n",
       "      <td>4.00</td>\n",
       "    </tr>\n",
       "    <tr>\n",
       "      <th>1970-05-01</th>\n",
       "      <td>1.00</td>\n",
       "      <td>24.30</td>\n",
       "      <td>642.40</td>\n",
       "      <td>5.00</td>\n",
       "    </tr>\n",
       "    <tr>\n",
       "      <th>...</th>\n",
       "      <td>...</td>\n",
       "      <td>...</td>\n",
       "      <td>...</td>\n",
       "      <td>...</td>\n",
       "    </tr>\n",
       "    <tr>\n",
       "      <th>2009-09-01</th>\n",
       "      <td>1.00</td>\n",
       "      <td>494.60</td>\n",
       "      <td>9,927.80</td>\n",
       "      <td>477.00</td>\n",
       "    </tr>\n",
       "    <tr>\n",
       "      <th>2009-10-01</th>\n",
       "      <td>1.00</td>\n",
       "      <td>485.00</td>\n",
       "      <td>9,976.70</td>\n",
       "      <td>478.00</td>\n",
       "    </tr>\n",
       "    <tr>\n",
       "      <th>2009-11-01</th>\n",
       "      <td>1.00</td>\n",
       "      <td>479.10</td>\n",
       "      <td>9,985.70</td>\n",
       "      <td>479.00</td>\n",
       "    </tr>\n",
       "    <tr>\n",
       "      <th>2009-12-01</th>\n",
       "      <td>1.00</td>\n",
       "      <td>476.70</td>\n",
       "      <td>10,052.60</td>\n",
       "      <td>480.00</td>\n",
       "    </tr>\n",
       "    <tr>\n",
       "      <th>2010-01-01</th>\n",
       "      <td>1.00</td>\n",
       "      <td>495.20</td>\n",
       "      <td>10,056.10</td>\n",
       "      <td>481.00</td>\n",
       "    </tr>\n",
       "  </tbody>\n",
       "</table>\n",
       "<p>481 rows × 4 columns</p>\n",
       "</div>"
      ],
      "text/plain": [
       "            const    PDI       PCE  trend\n",
       "DATE                                     \n",
       "1970-01-01   1.00  24.70    628.70   1.00\n",
       "1970-02-01   1.00  24.50    634.00   2.00\n",
       "1970-03-01   1.00  24.40    632.30   3.00\n",
       "1970-04-01   1.00  24.30    636.00   4.00\n",
       "1970-05-01   1.00  24.30    642.40   5.00\n",
       "...           ...    ...       ...    ...\n",
       "2009-09-01   1.00 494.60  9,927.80 477.00\n",
       "2009-10-01   1.00 485.00  9,976.70 478.00\n",
       "2009-11-01   1.00 479.10  9,985.70 479.00\n",
       "2009-12-01   1.00 476.70 10,052.60 480.00\n",
       "2010-01-01   1.00 495.20 10,056.10 481.00\n",
       "\n",
       "[481 rows x 4 columns]"
      ]
     },
     "execution_count": 13,
     "metadata": {},
     "output_type": "execute_result"
    }
   ],
   "source": [
    "# 상수항 추가 \n",
    "df1 = sm.add_constant(df1)\n",
    "df1"
   ]
  },
  {
   "cell_type": "code",
   "execution_count": 14,
   "id": "1628f720",
   "metadata": {
    "ExecuteTime": {
     "end_time": "2022-06-12T13:18:15.348224Z",
     "start_time": "2022-06-12T13:18:15.333836Z"
    }
   },
   "outputs": [
    {
     "data": {
      "text/html": [
       "<div>\n",
       "<style scoped>\n",
       "    .dataframe tbody tr th:only-of-type {\n",
       "        vertical-align: middle;\n",
       "    }\n",
       "\n",
       "    .dataframe tbody tr th {\n",
       "        vertical-align: top;\n",
       "    }\n",
       "\n",
       "    .dataframe thead th {\n",
       "        text-align: right;\n",
       "    }\n",
       "</style>\n",
       "<table border=\"1\" class=\"dataframe\">\n",
       "  <thead>\n",
       "    <tr style=\"text-align: right;\">\n",
       "      <th></th>\n",
       "      <th>const</th>\n",
       "      <th>PDI</th>\n",
       "      <th>PCE</th>\n",
       "      <th>trend</th>\n",
       "      <th>log_PDI</th>\n",
       "      <th>log_PCE</th>\n",
       "    </tr>\n",
       "    <tr>\n",
       "      <th>DATE</th>\n",
       "      <th></th>\n",
       "      <th></th>\n",
       "      <th></th>\n",
       "      <th></th>\n",
       "      <th></th>\n",
       "      <th></th>\n",
       "    </tr>\n",
       "  </thead>\n",
       "  <tbody>\n",
       "    <tr>\n",
       "      <th>1970-01-01</th>\n",
       "      <td>1.00</td>\n",
       "      <td>24.70</td>\n",
       "      <td>628.70</td>\n",
       "      <td>1.00</td>\n",
       "      <td>3.21</td>\n",
       "      <td>6.44</td>\n",
       "    </tr>\n",
       "    <tr>\n",
       "      <th>1970-02-01</th>\n",
       "      <td>1.00</td>\n",
       "      <td>24.50</td>\n",
       "      <td>634.00</td>\n",
       "      <td>2.00</td>\n",
       "      <td>3.20</td>\n",
       "      <td>6.45</td>\n",
       "    </tr>\n",
       "    <tr>\n",
       "      <th>1970-03-01</th>\n",
       "      <td>1.00</td>\n",
       "      <td>24.40</td>\n",
       "      <td>632.30</td>\n",
       "      <td>3.00</td>\n",
       "      <td>3.19</td>\n",
       "      <td>6.45</td>\n",
       "    </tr>\n",
       "    <tr>\n",
       "      <th>1970-04-01</th>\n",
       "      <td>1.00</td>\n",
       "      <td>24.30</td>\n",
       "      <td>636.00</td>\n",
       "      <td>4.00</td>\n",
       "      <td>3.19</td>\n",
       "      <td>6.46</td>\n",
       "    </tr>\n",
       "    <tr>\n",
       "      <th>1970-05-01</th>\n",
       "      <td>1.00</td>\n",
       "      <td>24.30</td>\n",
       "      <td>642.40</td>\n",
       "      <td>5.00</td>\n",
       "      <td>3.19</td>\n",
       "      <td>6.47</td>\n",
       "    </tr>\n",
       "    <tr>\n",
       "      <th>...</th>\n",
       "      <td>...</td>\n",
       "      <td>...</td>\n",
       "      <td>...</td>\n",
       "      <td>...</td>\n",
       "      <td>...</td>\n",
       "      <td>...</td>\n",
       "    </tr>\n",
       "    <tr>\n",
       "      <th>2009-09-01</th>\n",
       "      <td>1.00</td>\n",
       "      <td>494.60</td>\n",
       "      <td>9,927.80</td>\n",
       "      <td>477.00</td>\n",
       "      <td>6.20</td>\n",
       "      <td>9.20</td>\n",
       "    </tr>\n",
       "    <tr>\n",
       "      <th>2009-10-01</th>\n",
       "      <td>1.00</td>\n",
       "      <td>485.00</td>\n",
       "      <td>9,976.70</td>\n",
       "      <td>478.00</td>\n",
       "      <td>6.18</td>\n",
       "      <td>9.21</td>\n",
       "    </tr>\n",
       "    <tr>\n",
       "      <th>2009-11-01</th>\n",
       "      <td>1.00</td>\n",
       "      <td>479.10</td>\n",
       "      <td>9,985.70</td>\n",
       "      <td>479.00</td>\n",
       "      <td>6.17</td>\n",
       "      <td>9.21</td>\n",
       "    </tr>\n",
       "    <tr>\n",
       "      <th>2009-12-01</th>\n",
       "      <td>1.00</td>\n",
       "      <td>476.70</td>\n",
       "      <td>10,052.60</td>\n",
       "      <td>480.00</td>\n",
       "      <td>6.17</td>\n",
       "      <td>9.22</td>\n",
       "    </tr>\n",
       "    <tr>\n",
       "      <th>2010-01-01</th>\n",
       "      <td>1.00</td>\n",
       "      <td>495.20</td>\n",
       "      <td>10,056.10</td>\n",
       "      <td>481.00</td>\n",
       "      <td>6.20</td>\n",
       "      <td>9.22</td>\n",
       "    </tr>\n",
       "  </tbody>\n",
       "</table>\n",
       "<p>481 rows × 6 columns</p>\n",
       "</div>"
      ],
      "text/plain": [
       "            const    PDI       PCE  trend  log_PDI  log_PCE\n",
       "DATE                                                       \n",
       "1970-01-01   1.00  24.70    628.70   1.00     3.21     6.44\n",
       "1970-02-01   1.00  24.50    634.00   2.00     3.20     6.45\n",
       "1970-03-01   1.00  24.40    632.30   3.00     3.19     6.45\n",
       "1970-04-01   1.00  24.30    636.00   4.00     3.19     6.46\n",
       "1970-05-01   1.00  24.30    642.40   5.00     3.19     6.47\n",
       "...           ...    ...       ...    ...      ...      ...\n",
       "2009-09-01   1.00 494.60  9,927.80 477.00     6.20     9.20\n",
       "2009-10-01   1.00 485.00  9,976.70 478.00     6.18     9.21\n",
       "2009-11-01   1.00 479.10  9,985.70 479.00     6.17     9.21\n",
       "2009-12-01   1.00 476.70 10,052.60 480.00     6.17     9.22\n",
       "2010-01-01   1.00 495.20 10,056.10 481.00     6.20     9.22\n",
       "\n",
       "[481 rows x 6 columns]"
      ]
     },
     "execution_count": 14,
     "metadata": {},
     "output_type": "execute_result"
    }
   ],
   "source": [
    "# log씌운 변수 추가\n",
    "df1['log_PDI'] = np.log(df1.PDI)\n",
    "df1['log_PCE'] = np.log(df1.PCE)\n",
    "df1"
   ]
  },
  {
   "cell_type": "code",
   "execution_count": 15,
   "id": "ade872f3",
   "metadata": {
    "ExecuteTime": {
     "end_time": "2022-06-12T13:18:15.379831Z",
     "start_time": "2022-06-12T13:18:15.349740Z"
    }
   },
   "outputs": [
    {
     "name": "stdout",
     "output_type": "stream",
     "text": [
      "                            OLS Regression Results                            \n",
      "==============================================================================\n",
      "Dep. Variable:                log_PCE   R-squared:                       0.985\n",
      "Model:                            OLS   Adj. R-squared:                  0.985\n",
      "Method:                 Least Squares   F-statistic:                 1.602e+04\n",
      "Date:                Sun, 12 Jun 2022   Prob (F-statistic):               0.00\n",
      "Time:                        22:18:15   Log-Likelihood:                 425.75\n",
      "No. Observations:                 481   AIC:                            -845.5\n",
      "Df Residuals:                     478   BIC:                            -833.0\n",
      "Df Model:                           2                                         \n",
      "Covariance Type:            nonrobust                                         \n",
      "==============================================================================\n",
      "                 coef    std err          t      P>|t|      [0.025      0.975]\n",
      "------------------------------------------------------------------------------\n",
      "Intercept      4.9734      0.123     40.509      0.000       4.732       5.215\n",
      "log_PDI        0.5337      0.039     13.723      0.000       0.457       0.610\n",
      "trend          0.0018      0.000      6.074      0.000       0.001       0.002\n",
      "==============================================================================\n",
      "Omnibus:                       27.507   Durbin-Watson:                   0.029\n",
      "Prob(Omnibus):                  0.000   Jarque-Bera (JB):               23.100\n",
      "Skew:                          -0.457   Prob(JB):                     9.64e-06\n",
      "Kurtosis:                       2.437   Cond. No.                     7.84e+03\n",
      "==============================================================================\n",
      "\n",
      "Notes:\n",
      "[1] Standard Errors assume that the covariance matrix of the errors is correctly specified.\n",
      "[2] The condition number is large, 7.84e+03. This might indicate that there are\n",
      "strong multicollinearity or other numerical problems.\n"
     ]
    }
   ],
   "source": [
    "model2 = smf.ols('log_PCE ~ log_PDI+trend',data=df1).fit()\n",
    "print(model2.summary())"
   ]
  },
  {
   "cell_type": "markdown",
   "id": "1753c181",
   "metadata": {},
   "source": [
    "## PCE와 PDI의 OLS 잔차항 adf테스트"
   ]
  },
  {
   "cell_type": "code",
   "execution_count": 16,
   "id": "a81a980b",
   "metadata": {
    "ExecuteTime": {
     "end_time": "2022-06-12T13:18:15.396280Z",
     "start_time": "2022-06-12T13:18:15.381863Z"
    }
   },
   "outputs": [
    {
     "data": {
      "text/plain": [
       "Test Statistics      -2.31\n",
       "p-value               0.02\n",
       "Used Lag              1.00\n",
       "Used Observations   479.00\n",
       "dtype: float64"
      ]
     },
     "metadata": {},
     "output_type": "display_data"
    }
   ],
   "source": [
    "display(pd.Series(sm.tsa.stattools.adfuller(model2.resid, regression='nc', maxlag=1,autolag= None)[0:4], \n",
    "                  index=['Test Statistics', 'p-value', 'Used Lag', 'Used Observations']))"
   ]
  },
  {
   "cell_type": "code",
   "execution_count": 17,
   "id": "a150df5e",
   "metadata": {
    "ExecuteTime": {
     "end_time": "2022-06-12T13:18:15.412106Z",
     "start_time": "2022-06-12T13:18:15.397795Z"
    }
   },
   "outputs": [
    {
     "data": {
      "text/html": [
       "<div>\n",
       "<style scoped>\n",
       "    .dataframe tbody tr th:only-of-type {\n",
       "        vertical-align: middle;\n",
       "    }\n",
       "\n",
       "    .dataframe tbody tr th {\n",
       "        vertical-align: top;\n",
       "    }\n",
       "\n",
       "    .dataframe thead th {\n",
       "        text-align: right;\n",
       "    }\n",
       "</style>\n",
       "<table border=\"1\" class=\"dataframe\">\n",
       "  <thead>\n",
       "    <tr style=\"text-align: right;\">\n",
       "      <th></th>\n",
       "      <th>const</th>\n",
       "      <th>PDI</th>\n",
       "      <th>PCE</th>\n",
       "      <th>trend</th>\n",
       "      <th>log_PDI</th>\n",
       "      <th>log_PCE</th>\n",
       "      <th>e_hat</th>\n",
       "    </tr>\n",
       "    <tr>\n",
       "      <th>DATE</th>\n",
       "      <th></th>\n",
       "      <th></th>\n",
       "      <th></th>\n",
       "      <th></th>\n",
       "      <th></th>\n",
       "      <th></th>\n",
       "      <th></th>\n",
       "    </tr>\n",
       "  </thead>\n",
       "  <tbody>\n",
       "    <tr>\n",
       "      <th>1970-01-01</th>\n",
       "      <td>1.00</td>\n",
       "      <td>24.70</td>\n",
       "      <td>628.70</td>\n",
       "      <td>1.00</td>\n",
       "      <td>3.21</td>\n",
       "      <td>6.44</td>\n",
       "      <td>-0.24</td>\n",
       "    </tr>\n",
       "    <tr>\n",
       "      <th>1970-02-01</th>\n",
       "      <td>1.00</td>\n",
       "      <td>24.50</td>\n",
       "      <td>634.00</td>\n",
       "      <td>2.00</td>\n",
       "      <td>3.20</td>\n",
       "      <td>6.45</td>\n",
       "      <td>-0.23</td>\n",
       "    </tr>\n",
       "    <tr>\n",
       "      <th>1970-03-01</th>\n",
       "      <td>1.00</td>\n",
       "      <td>24.40</td>\n",
       "      <td>632.30</td>\n",
       "      <td>3.00</td>\n",
       "      <td>3.19</td>\n",
       "      <td>6.45</td>\n",
       "      <td>-0.23</td>\n",
       "    </tr>\n",
       "    <tr>\n",
       "      <th>1970-04-01</th>\n",
       "      <td>1.00</td>\n",
       "      <td>24.30</td>\n",
       "      <td>636.00</td>\n",
       "      <td>4.00</td>\n",
       "      <td>3.19</td>\n",
       "      <td>6.46</td>\n",
       "      <td>-0.23</td>\n",
       "    </tr>\n",
       "    <tr>\n",
       "      <th>1970-05-01</th>\n",
       "      <td>1.00</td>\n",
       "      <td>24.30</td>\n",
       "      <td>642.40</td>\n",
       "      <td>5.00</td>\n",
       "      <td>3.19</td>\n",
       "      <td>6.47</td>\n",
       "      <td>-0.22</td>\n",
       "    </tr>\n",
       "    <tr>\n",
       "      <th>...</th>\n",
       "      <td>...</td>\n",
       "      <td>...</td>\n",
       "      <td>...</td>\n",
       "      <td>...</td>\n",
       "      <td>...</td>\n",
       "      <td>...</td>\n",
       "      <td>...</td>\n",
       "    </tr>\n",
       "    <tr>\n",
       "      <th>2009-09-01</th>\n",
       "      <td>1.00</td>\n",
       "      <td>494.60</td>\n",
       "      <td>9,927.80</td>\n",
       "      <td>477.00</td>\n",
       "      <td>6.20</td>\n",
       "      <td>9.20</td>\n",
       "      <td>0.06</td>\n",
       "    </tr>\n",
       "    <tr>\n",
       "      <th>2009-10-01</th>\n",
       "      <td>1.00</td>\n",
       "      <td>485.00</td>\n",
       "      <td>9,976.70</td>\n",
       "      <td>478.00</td>\n",
       "      <td>6.18</td>\n",
       "      <td>9.21</td>\n",
       "      <td>0.07</td>\n",
       "    </tr>\n",
       "    <tr>\n",
       "      <th>2009-11-01</th>\n",
       "      <td>1.00</td>\n",
       "      <td>479.10</td>\n",
       "      <td>9,985.70</td>\n",
       "      <td>479.00</td>\n",
       "      <td>6.17</td>\n",
       "      <td>9.21</td>\n",
       "      <td>0.07</td>\n",
       "    </tr>\n",
       "    <tr>\n",
       "      <th>2009-12-01</th>\n",
       "      <td>1.00</td>\n",
       "      <td>476.70</td>\n",
       "      <td>10,052.60</td>\n",
       "      <td>480.00</td>\n",
       "      <td>6.17</td>\n",
       "      <td>9.22</td>\n",
       "      <td>0.08</td>\n",
       "    </tr>\n",
       "    <tr>\n",
       "      <th>2010-01-01</th>\n",
       "      <td>1.00</td>\n",
       "      <td>495.20</td>\n",
       "      <td>10,056.10</td>\n",
       "      <td>481.00</td>\n",
       "      <td>6.20</td>\n",
       "      <td>9.22</td>\n",
       "      <td>0.06</td>\n",
       "    </tr>\n",
       "  </tbody>\n",
       "</table>\n",
       "<p>481 rows × 7 columns</p>\n",
       "</div>"
      ],
      "text/plain": [
       "            const    PDI       PCE  trend  log_PDI  log_PCE  e_hat\n",
       "DATE                                                              \n",
       "1970-01-01   1.00  24.70    628.70   1.00     3.21     6.44  -0.24\n",
       "1970-02-01   1.00  24.50    634.00   2.00     3.20     6.45  -0.23\n",
       "1970-03-01   1.00  24.40    632.30   3.00     3.19     6.45  -0.23\n",
       "1970-04-01   1.00  24.30    636.00   4.00     3.19     6.46  -0.23\n",
       "1970-05-01   1.00  24.30    642.40   5.00     3.19     6.47  -0.22\n",
       "...           ...    ...       ...    ...      ...      ...    ...\n",
       "2009-09-01   1.00 494.60  9,927.80 477.00     6.20     9.20   0.06\n",
       "2009-10-01   1.00 485.00  9,976.70 478.00     6.18     9.21   0.07\n",
       "2009-11-01   1.00 479.10  9,985.70 479.00     6.17     9.21   0.07\n",
       "2009-12-01   1.00 476.70 10,052.60 480.00     6.17     9.22   0.08\n",
       "2010-01-01   1.00 495.20 10,056.10 481.00     6.20     9.22   0.06\n",
       "\n",
       "[481 rows x 7 columns]"
      ]
     },
     "execution_count": 17,
     "metadata": {},
     "output_type": "execute_result"
    }
   ],
   "source": [
    "# model2에서 잔차항을 e_hat으로 추가\n",
    "df1['e_hat'] = model2.resid\n",
    "df1"
   ]
  },
  {
   "cell_type": "code",
   "execution_count": 18,
   "id": "fd49cf52",
   "metadata": {
    "ExecuteTime": {
     "end_time": "2022-06-12T13:18:15.443050Z",
     "start_time": "2022-06-12T13:18:15.413164Z"
    }
   },
   "outputs": [
    {
     "data": {
      "text/html": [
       "<div>\n",
       "<style scoped>\n",
       "    .dataframe tbody tr th:only-of-type {\n",
       "        vertical-align: middle;\n",
       "    }\n",
       "\n",
       "    .dataframe tbody tr th {\n",
       "        vertical-align: top;\n",
       "    }\n",
       "\n",
       "    .dataframe thead th {\n",
       "        text-align: right;\n",
       "    }\n",
       "</style>\n",
       "<table border=\"1\" class=\"dataframe\">\n",
       "  <thead>\n",
       "    <tr style=\"text-align: right;\">\n",
       "      <th></th>\n",
       "      <th>const</th>\n",
       "      <th>PDI</th>\n",
       "      <th>PCE</th>\n",
       "      <th>trend</th>\n",
       "      <th>log_PDI</th>\n",
       "      <th>log_PCE</th>\n",
       "      <th>e_hat</th>\n",
       "      <th>log_PDI_diff</th>\n",
       "      <th>log_PCE_diff</th>\n",
       "    </tr>\n",
       "    <tr>\n",
       "      <th>DATE</th>\n",
       "      <th></th>\n",
       "      <th></th>\n",
       "      <th></th>\n",
       "      <th></th>\n",
       "      <th></th>\n",
       "      <th></th>\n",
       "      <th></th>\n",
       "      <th></th>\n",
       "      <th></th>\n",
       "    </tr>\n",
       "  </thead>\n",
       "  <tbody>\n",
       "    <tr>\n",
       "      <th>1970-02-01</th>\n",
       "      <td>1.00</td>\n",
       "      <td>24.50</td>\n",
       "      <td>634.00</td>\n",
       "      <td>2.00</td>\n",
       "      <td>3.20</td>\n",
       "      <td>6.45</td>\n",
       "      <td>-0.23</td>\n",
       "      <td>-0.01</td>\n",
       "      <td>0.01</td>\n",
       "    </tr>\n",
       "    <tr>\n",
       "      <th>1970-03-01</th>\n",
       "      <td>1.00</td>\n",
       "      <td>24.40</td>\n",
       "      <td>632.30</td>\n",
       "      <td>3.00</td>\n",
       "      <td>3.19</td>\n",
       "      <td>6.45</td>\n",
       "      <td>-0.23</td>\n",
       "      <td>-0.00</td>\n",
       "      <td>-0.00</td>\n",
       "    </tr>\n",
       "    <tr>\n",
       "      <th>1970-04-01</th>\n",
       "      <td>1.00</td>\n",
       "      <td>24.30</td>\n",
       "      <td>636.00</td>\n",
       "      <td>4.00</td>\n",
       "      <td>3.19</td>\n",
       "      <td>6.46</td>\n",
       "      <td>-0.23</td>\n",
       "      <td>-0.00</td>\n",
       "      <td>0.01</td>\n",
       "    </tr>\n",
       "    <tr>\n",
       "      <th>1970-05-01</th>\n",
       "      <td>1.00</td>\n",
       "      <td>24.30</td>\n",
       "      <td>642.40</td>\n",
       "      <td>5.00</td>\n",
       "      <td>3.19</td>\n",
       "      <td>6.47</td>\n",
       "      <td>-0.22</td>\n",
       "      <td>0.00</td>\n",
       "      <td>0.01</td>\n",
       "    </tr>\n",
       "    <tr>\n",
       "      <th>1970-06-01</th>\n",
       "      <td>1.00</td>\n",
       "      <td>24.20</td>\n",
       "      <td>646.30</td>\n",
       "      <td>6.00</td>\n",
       "      <td>3.19</td>\n",
       "      <td>6.47</td>\n",
       "      <td>-0.21</td>\n",
       "      <td>-0.00</td>\n",
       "      <td>0.01</td>\n",
       "    </tr>\n",
       "    <tr>\n",
       "      <th>...</th>\n",
       "      <td>...</td>\n",
       "      <td>...</td>\n",
       "      <td>...</td>\n",
       "      <td>...</td>\n",
       "      <td>...</td>\n",
       "      <td>...</td>\n",
       "      <td>...</td>\n",
       "      <td>...</td>\n",
       "      <td>...</td>\n",
       "    </tr>\n",
       "    <tr>\n",
       "      <th>2009-09-01</th>\n",
       "      <td>1.00</td>\n",
       "      <td>494.60</td>\n",
       "      <td>9,927.80</td>\n",
       "      <td>477.00</td>\n",
       "      <td>6.20</td>\n",
       "      <td>9.20</td>\n",
       "      <td>0.06</td>\n",
       "      <td>-0.02</td>\n",
       "      <td>-0.01</td>\n",
       "    </tr>\n",
       "    <tr>\n",
       "      <th>2009-10-01</th>\n",
       "      <td>1.00</td>\n",
       "      <td>485.00</td>\n",
       "      <td>9,976.70</td>\n",
       "      <td>478.00</td>\n",
       "      <td>6.18</td>\n",
       "      <td>9.21</td>\n",
       "      <td>0.07</td>\n",
       "      <td>-0.02</td>\n",
       "      <td>0.00</td>\n",
       "    </tr>\n",
       "    <tr>\n",
       "      <th>2009-11-01</th>\n",
       "      <td>1.00</td>\n",
       "      <td>479.10</td>\n",
       "      <td>9,985.70</td>\n",
       "      <td>479.00</td>\n",
       "      <td>6.17</td>\n",
       "      <td>9.21</td>\n",
       "      <td>0.07</td>\n",
       "      <td>-0.01</td>\n",
       "      <td>0.00</td>\n",
       "    </tr>\n",
       "    <tr>\n",
       "      <th>2009-12-01</th>\n",
       "      <td>1.00</td>\n",
       "      <td>476.70</td>\n",
       "      <td>10,052.60</td>\n",
       "      <td>480.00</td>\n",
       "      <td>6.17</td>\n",
       "      <td>9.22</td>\n",
       "      <td>0.08</td>\n",
       "      <td>-0.01</td>\n",
       "      <td>0.01</td>\n",
       "    </tr>\n",
       "    <tr>\n",
       "      <th>2010-01-01</th>\n",
       "      <td>1.00</td>\n",
       "      <td>495.20</td>\n",
       "      <td>10,056.10</td>\n",
       "      <td>481.00</td>\n",
       "      <td>6.20</td>\n",
       "      <td>9.22</td>\n",
       "      <td>0.06</td>\n",
       "      <td>0.04</td>\n",
       "      <td>0.00</td>\n",
       "    </tr>\n",
       "  </tbody>\n",
       "</table>\n",
       "<p>480 rows × 9 columns</p>\n",
       "</div>"
      ],
      "text/plain": [
       "            const    PDI       PCE  trend  log_PDI  log_PCE  e_hat  \\\n",
       "DATE                                                                 \n",
       "1970-02-01   1.00  24.50    634.00   2.00     3.20     6.45  -0.23   \n",
       "1970-03-01   1.00  24.40    632.30   3.00     3.19     6.45  -0.23   \n",
       "1970-04-01   1.00  24.30    636.00   4.00     3.19     6.46  -0.23   \n",
       "1970-05-01   1.00  24.30    642.40   5.00     3.19     6.47  -0.22   \n",
       "1970-06-01   1.00  24.20    646.30   6.00     3.19     6.47  -0.21   \n",
       "...           ...    ...       ...    ...      ...      ...    ...   \n",
       "2009-09-01   1.00 494.60  9,927.80 477.00     6.20     9.20   0.06   \n",
       "2009-10-01   1.00 485.00  9,976.70 478.00     6.18     9.21   0.07   \n",
       "2009-11-01   1.00 479.10  9,985.70 479.00     6.17     9.21   0.07   \n",
       "2009-12-01   1.00 476.70 10,052.60 480.00     6.17     9.22   0.08   \n",
       "2010-01-01   1.00 495.20 10,056.10 481.00     6.20     9.22   0.06   \n",
       "\n",
       "            log_PDI_diff  log_PCE_diff  \n",
       "DATE                                    \n",
       "1970-02-01         -0.01          0.01  \n",
       "1970-03-01         -0.00         -0.00  \n",
       "1970-04-01         -0.00          0.01  \n",
       "1970-05-01          0.00          0.01  \n",
       "1970-06-01         -0.00          0.01  \n",
       "...                  ...           ...  \n",
       "2009-09-01         -0.02         -0.01  \n",
       "2009-10-01         -0.02          0.00  \n",
       "2009-11-01         -0.01          0.00  \n",
       "2009-12-01         -0.01          0.01  \n",
       "2010-01-01          0.04          0.00  \n",
       "\n",
       "[480 rows x 9 columns]"
      ]
     },
     "execution_count": 18,
     "metadata": {},
     "output_type": "execute_result"
    }
   ],
   "source": [
    "# 로그씌우고 1차 차분 추가\n",
    "df1['log_PDI_diff'] = df1.log_PDI.diff(1).dropna()\n",
    "df1['log_PCE_diff'] = df1.log_PCE.diff(1).dropna()\n",
    "df1 = df1.dropna(axis=0)\n",
    "df1"
   ]
  },
  {
   "cell_type": "code",
   "execution_count": 19,
   "id": "d70d0da8",
   "metadata": {
    "ExecuteTime": {
     "end_time": "2022-06-12T13:18:15.474126Z",
     "start_time": "2022-06-12T13:18:15.444566Z"
    }
   },
   "outputs": [
    {
     "name": "stdout",
     "output_type": "stream",
     "text": [
      "                            OLS Regression Results                            \n",
      "==============================================================================\n",
      "Dep. Variable:           log_PCE_diff   R-squared:                       0.012\n",
      "Model:                            OLS   Adj. R-squared:                  0.008\n",
      "Method:                 Least Squares   F-statistic:                     2.968\n",
      "Date:                Sun, 12 Jun 2022   Prob (F-statistic):             0.0524\n",
      "Time:                        22:18:15   Log-Likelihood:                 1807.2\n",
      "No. Observations:                 480   AIC:                            -3608.\n",
      "Df Residuals:                     477   BIC:                            -3596.\n",
      "Df Model:                           2                                         \n",
      "Covariance Type:            nonrobust                                         \n",
      "================================================================================\n",
      "                   coef    std err          t      P>|t|      [0.025      0.975]\n",
      "--------------------------------------------------------------------------------\n",
      "Intercept        0.0057      0.000     21.644      0.000       0.005       0.006\n",
      "log_PDI_diff     0.0167      0.008      2.008      0.045       0.000       0.033\n",
      "e_hat            0.0037      0.003      1.440      0.150      -0.001       0.009\n",
      "==============================================================================\n",
      "Omnibus:                       37.525   Durbin-Watson:                   2.200\n",
      "Prob(Omnibus):                  0.000   Jarque-Bera (JB):              151.847\n",
      "Skew:                          -0.150   Prob(JB):                     1.06e-33\n",
      "Kurtosis:                       5.739   Cond. No.                         32.5\n",
      "==============================================================================\n",
      "\n",
      "Notes:\n",
      "[1] Standard Errors assume that the covariance matrix of the errors is correctly specified.\n"
     ]
    }
   ],
   "source": [
    "# 로그씌우고 1차 차분한 변수에 e_hat을 넣어서 단기적인 관계를 살펴봄\n",
    "model3 = smf.ols('log_PCE_diff ~ log_PDI_diff+e_hat',data=df1).fit()\n",
    "print(model3.summary())"
   ]
  },
  {
   "cell_type": "code",
   "execution_count": 20,
   "id": "cb9fa220",
   "metadata": {
    "ExecuteTime": {
     "end_time": "2022-06-12T13:18:15.490195Z",
     "start_time": "2022-06-12T13:18:15.475638Z"
    }
   },
   "outputs": [
    {
     "data": {
      "text/plain": [
       "DATE\n",
       "1970-02-01   3.20\n",
       "1970-03-01   3.19\n",
       "1970-04-01   3.19\n",
       "1970-05-01   3.19\n",
       "1970-06-01   3.19\n",
       "             ... \n",
       "2009-09-01   6.20\n",
       "2009-10-01   6.18\n",
       "2009-11-01   6.17\n",
       "2009-12-01   6.17\n",
       "2010-01-01   6.20\n",
       "Name: log_PDI, Length: 480, dtype: float64"
      ]
     },
     "execution_count": 20,
     "metadata": {},
     "output_type": "execute_result"
    }
   ],
   "source": [
    "df1['log_PDI']"
   ]
  },
  {
   "cell_type": "code",
   "execution_count": 22,
   "id": "2ddc0853",
   "metadata": {
    "ExecuteTime": {
     "end_time": "2022-06-12T13:18:37.561101Z",
     "start_time": "2022-06-12T13:18:37.528686Z"
    }
   },
   "outputs": [
    {
     "data": {
      "text/plain": [
       "(-2.8251724654096293,\n",
       " 0.157806662162422,\n",
       " array([-3.91945022, -3.34891569, -3.05331613]))"
      ]
     },
     "execution_count": 22,
     "metadata": {},
     "output_type": "execute_result"
    }
   ],
   "source": [
    "sm.tsa.coint(df1['log_PDI'], df1['log_PCE'])"
   ]
  },
  {
   "cell_type": "code",
   "execution_count": null,
   "id": "bac2760d",
   "metadata": {},
   "outputs": [],
   "source": []
  }
 ],
 "metadata": {
  "kernelspec": {
   "display_name": "Python 3 (ipykernel)",
   "language": "python",
   "name": "python3"
  },
  "language_info": {
   "codemirror_mode": {
    "name": "ipython",
    "version": 3
   },
   "file_extension": ".py",
   "mimetype": "text/x-python",
   "name": "python",
   "nbconvert_exporter": "python",
   "pygments_lexer": "ipython3",
   "version": "3.9.7"
  },
  "toc": {
   "base_numbering": 1,
   "nav_menu": {},
   "number_sections": true,
   "sideBar": true,
   "skip_h1_title": false,
   "title_cell": "Table of Contents",
   "title_sidebar": "Contents",
   "toc_cell": false,
   "toc_position": {
    "height": "calc(100% - 180px)",
    "left": "10px",
    "top": "150px",
    "width": "303.825px"
   },
   "toc_section_display": true,
   "toc_window_display": true
  },
  "varInspector": {
   "cols": {
    "lenName": 16,
    "lenType": 16,
    "lenVar": 40
   },
   "kernels_config": {
    "python": {
     "delete_cmd_postfix": "",
     "delete_cmd_prefix": "del ",
     "library": "var_list.py",
     "varRefreshCmd": "print(var_dic_list())"
    },
    "r": {
     "delete_cmd_postfix": ") ",
     "delete_cmd_prefix": "rm(",
     "library": "var_list.r",
     "varRefreshCmd": "cat(var_dic_list()) "
    }
   },
   "types_to_exclude": [
    "module",
    "function",
    "builtin_function_or_method",
    "instance",
    "_Feature"
   ],
   "window_display": false
  }
 },
 "nbformat": 4,
 "nbformat_minor": 5
}
